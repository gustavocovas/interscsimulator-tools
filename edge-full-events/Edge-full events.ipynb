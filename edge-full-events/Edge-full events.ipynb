{
 "cells": [
  {
   "cell_type": "code",
   "execution_count": 1,
   "metadata": {},
   "outputs": [],
   "source": [
    "%matplotlib inline\n",
    "\n",
    "import pandas as pd\n",
    "import numpy as np\n",
    "import xml.etree.ElementTree as ET\n",
    "import matplotlib.pyplot as plt\n",
    "import os.path"
   ]
  },
  {
   "cell_type": "code",
   "execution_count": 12,
   "metadata": {},
   "outputs": [],
   "source": [
    "def parse_events(filename):\n",
    "    events = []\n",
    "    with open(filename) as f:\n",
    "        for line in f:\n",
    "            tokens = line.split()\n",
    "            event_type = tokens[1].replace(':', '')\n",
    "            car_count = float(tokens[2].split('|')[0])\n",
    "            storage_capacity = float(tokens[2].split('|')[1])\n",
    "            events.append({'type': event_type, 'car_count': car_count, 'storage_capacity': storage_capacity})\n",
    "    return pd.DataFrame(events)"
   ]
  },
  {
   "cell_type": "markdown",
   "metadata": {},
   "source": [
    "Resultados da simulação em um cenário de calibragem.\n",
    "- Fluxo do horário de pico da manhã, de acordo com a CET: 3067 carros/h no sentido Consolação, 2359 carros/h no sentido Paraíso, distribuídos uniformemente ao longo de 1h\n",
    "- Célula de 5.5m\n",
    "- Beta = 0.05"
   ]
  },
  {
   "cell_type": "code",
   "execution_count": 38,
   "metadata": {},
   "outputs": [
    {
     "data": {
      "text/plain": [
       "0.105412291712076"
      ]
     },
     "execution_count": 38,
     "metadata": {},
     "output_type": "execute_result"
    }
   ],
   "source": [
    "df = parse_events('edge.txt')\n",
    "df['extra'] = df['car_count'] - df['storage_capacity']\n",
    "df['relative_extra'] = df['extra'] / df['storage_capacity']\n",
    "\n",
    "len(df[df.extra > 0]) / len(df)"
   ]
  },
  {
   "cell_type": "markdown",
   "metadata": {},
   "source": [
    "Aproximadamente 10% das transições entre arestas ocorreram quando a próxima aresta teoricamente não comportaria mais nenhum veículo"
   ]
  },
  {
   "cell_type": "code",
   "execution_count": 34,
   "metadata": {},
   "outputs": [
    {
     "data": {
      "text/plain": [
       "count    14025.000000\n",
       "mean         2.483359\n",
       "std          2.271734\n",
       "min          0.022222\n",
       "25%          0.636364\n",
       "50%          1.555556\n",
       "75%          4.181818\n",
       "max         12.125000\n",
       "Name: relative_extra, dtype: float64"
      ]
     },
     "execution_count": 34,
     "metadata": {},
     "output_type": "execute_result"
    }
   ],
   "source": [
    "df[df.extra > 0].relative_extra.describe()"
   ]
  },
  {
   "cell_type": "markdown",
   "metadata": {},
   "source": [
    "Nessas transições, na média, a ocupação da aresta excedia em 250% a capacidade original"
   ]
  },
  {
   "cell_type": "code",
   "execution_count": null,
   "metadata": {},
   "outputs": [],
   "source": []
  }
 ],
 "metadata": {
  "kernelspec": {
   "display_name": "Python 3",
   "language": "python",
   "name": "python3"
  },
  "language_info": {
   "codemirror_mode": {
    "name": "ipython",
    "version": 3
   },
   "file_extension": ".py",
   "mimetype": "text/x-python",
   "name": "python",
   "nbconvert_exporter": "python",
   "pygments_lexer": "ipython3",
   "version": "3.6.5"
  }
 },
 "nbformat": 4,
 "nbformat_minor": 2
}
