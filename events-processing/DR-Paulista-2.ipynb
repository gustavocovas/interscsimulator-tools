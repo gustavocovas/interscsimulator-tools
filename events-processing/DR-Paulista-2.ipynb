{
 "cells": [
  {
   "cell_type": "code",
   "execution_count": 1,
   "metadata": {},
   "outputs": [],
   "source": [
    "%matplotlib inline\n",
    "\n",
    "import pandas as pd\n",
    "import numpy as np\n",
    "import xml.etree.ElementTree as ET\n",
    "import matplotlib.pyplot as plt\n",
    "import os.path"
   ]
  },
  {
   "cell_type": "markdown",
   "metadata": {},
   "source": [
    "O Cenário anterior tinha o problema dos comboios muito compridos. Limitei o fluxo a 1980 veículos/hora em cada sentido. Comboios de no máximo 22 carros por faixa."
   ]
  },
  {
   "cell_type": "code",
   "execution_count": 2,
   "metadata": {},
   "outputs": [],
   "source": [
    "scenarios_folder = os.path.expanduser('~/Developer/interscsimulator/mock-simulators/smart_city_model/')\n",
    "dr_events_filename_template = scenarios_folder + 'av_paulista_{}_scenario/events.xml'"
   ]
  },
  {
   "cell_type": "code",
   "execution_count": 3,
   "metadata": {},
   "outputs": [],
   "source": [
    "def parse_arrivals(filename, prefix=''):\n",
    "    tree = ET.parse(filename)\n",
    "    root = tree.getroot()\n",
    "\n",
    "    events = []\n",
    "    for child in root:        \n",
    "        if child.attrib['type'] == 'arrival' and (len(prefix) == 0 or (prefix in child.attrib['person'])):\n",
    "            # Sample arrival event:\n",
    "            # <event time=\"918\" type=\"arrival\" person=\"paraiso5_79\" vehicle=\"paraiso5_79\" \n",
    "            #     link=\"40\" legMode=\"car\" trip_time=\"205\" distance=\"2825\" action=\"ok\"/>\n",
    "\n",
    "            trip_time = int(child.attrib['trip_time'])\n",
    "            distance = int(child.attrib['distance'])\n",
    "\n",
    "            events.append({'trip_time_s': trip_time, 'distance_m': distance})\n",
    "\n",
    "    return pd.DataFrame(events)"
   ]
  },
  {
   "cell_type": "code",
   "execution_count": 4,
   "metadata": {},
   "outputs": [
    {
     "data": {
      "text/html": [
       "<div>\n",
       "<style scoped>\n",
       "    .dataframe tbody tr th:only-of-type {\n",
       "        vertical-align: middle;\n",
       "    }\n",
       "\n",
       "    .dataframe tbody tr th {\n",
       "        vertical-align: top;\n",
       "    }\n",
       "\n",
       "    .dataframe thead tr th {\n",
       "        text-align: left;\n",
       "    }\n",
       "</style>\n",
       "<table border=\"1\" class=\"dataframe\">\n",
       "  <thead>\n",
       "    <tr>\n",
       "      <th></th>\n",
       "      <th colspan=\"2\" halign=\"left\">re</th>\n",
       "      <th colspan=\"2\" halign=\"left\">dr_0</th>\n",
       "      <th colspan=\"2\" halign=\"left\">dr_33</th>\n",
       "      <th colspan=\"2\" halign=\"left\">dr_66</th>\n",
       "      <th colspan=\"2\" halign=\"left\">dr_100</th>\n",
       "    </tr>\n",
       "    <tr>\n",
       "      <th></th>\n",
       "      <th>trip_time_s</th>\n",
       "      <th>avg_speed_km/h</th>\n",
       "      <th>trip_time_s</th>\n",
       "      <th>avg_speed_km/h</th>\n",
       "      <th>trip_time_s</th>\n",
       "      <th>avg_speed_km/h</th>\n",
       "      <th>trip_time_s</th>\n",
       "      <th>avg_speed_km/h</th>\n",
       "      <th>trip_time_s</th>\n",
       "      <th>avg_speed_km/h</th>\n",
       "    </tr>\n",
       "  </thead>\n",
       "  <tbody>\n",
       "    <tr>\n",
       "      <th>count</th>\n",
       "      <td>3960.000000</td>\n",
       "      <td>3960.000000</td>\n",
       "      <td>3960.000000</td>\n",
       "      <td>3960.000000</td>\n",
       "      <td>3960.000000</td>\n",
       "      <td>3960.000000</td>\n",
       "      <td>3960.000000</td>\n",
       "      <td>3960.000000</td>\n",
       "      <td>3960.000000</td>\n",
       "      <td>3960.000000</td>\n",
       "    </tr>\n",
       "    <tr>\n",
       "      <th>mean</th>\n",
       "      <td>491.691414</td>\n",
       "      <td>20.546460</td>\n",
       "      <td>441.233081</td>\n",
       "      <td>22.475050</td>\n",
       "      <td>355.893434</td>\n",
       "      <td>31.770586</td>\n",
       "      <td>278.860354</td>\n",
       "      <td>40.617763</td>\n",
       "      <td>198.000000</td>\n",
       "      <td>49.627915</td>\n",
       "    </tr>\n",
       "    <tr>\n",
       "      <th>std</th>\n",
       "      <td>89.631858</td>\n",
       "      <td>3.160925</td>\n",
       "      <td>46.713407</td>\n",
       "      <td>2.089766</td>\n",
       "      <td>119.184423</td>\n",
       "      <td>12.759662</td>\n",
       "      <td>119.052226</td>\n",
       "      <td>12.821854</td>\n",
       "      <td>7.000884</td>\n",
       "      <td>0.018161</td>\n",
       "    </tr>\n",
       "    <tr>\n",
       "      <th>min</th>\n",
       "      <td>311.000000</td>\n",
       "      <td>13.523936</td>\n",
       "      <td>295.000000</td>\n",
       "      <td>16.672131</td>\n",
       "      <td>191.000000</td>\n",
       "      <td>16.950000</td>\n",
       "      <td>191.000000</td>\n",
       "      <td>14.507846</td>\n",
       "      <td>191.000000</td>\n",
       "      <td>49.609756</td>\n",
       "    </tr>\n",
       "    <tr>\n",
       "      <th>25%</th>\n",
       "      <td>415.000000</td>\n",
       "      <td>17.873462</td>\n",
       "      <td>407.000000</td>\n",
       "      <td>21.055901</td>\n",
       "      <td>205.000000</td>\n",
       "      <td>22.207026</td>\n",
       "      <td>191.000000</td>\n",
       "      <td>24.067005</td>\n",
       "      <td>191.000000</td>\n",
       "      <td>49.609756</td>\n",
       "    </tr>\n",
       "    <tr>\n",
       "      <th>50%</th>\n",
       "      <td>471.000000</td>\n",
       "      <td>20.436207</td>\n",
       "      <td>436.000000</td>\n",
       "      <td>22.302632</td>\n",
       "      <td>397.000000</td>\n",
       "      <td>24.272076</td>\n",
       "      <td>205.000000</td>\n",
       "      <td>49.609756</td>\n",
       "      <td>198.000000</td>\n",
       "      <td>49.627915</td>\n",
       "    </tr>\n",
       "    <tr>\n",
       "      <th>75%</th>\n",
       "      <td>568.000000</td>\n",
       "      <td>22.957111</td>\n",
       "      <td>470.000000</td>\n",
       "      <td>23.885139</td>\n",
       "      <td>439.000000</td>\n",
       "      <td>49.609756</td>\n",
       "      <td>401.000000</td>\n",
       "      <td>49.646073</td>\n",
       "      <td>205.000000</td>\n",
       "      <td>49.646073</td>\n",
       "    </tr>\n",
       "    <tr>\n",
       "      <th>max</th>\n",
       "      <td>752.000000</td>\n",
       "      <td>30.490032</td>\n",
       "      <td>610.000000</td>\n",
       "      <td>32.143729</td>\n",
       "      <td>600.000000</td>\n",
       "      <td>49.646073</td>\n",
       "      <td>701.000000</td>\n",
       "      <td>49.646073</td>\n",
       "      <td>205.000000</td>\n",
       "      <td>49.646073</td>\n",
       "    </tr>\n",
       "  </tbody>\n",
       "</table>\n",
       "</div>"
      ],
      "text/plain": [
       "                re                        dr_0                       dr_33  \\\n",
       "       trip_time_s avg_speed_km/h  trip_time_s avg_speed_km/h  trip_time_s   \n",
       "count  3960.000000    3960.000000  3960.000000    3960.000000  3960.000000   \n",
       "mean    491.691414      20.546460   441.233081      22.475050   355.893434   \n",
       "std      89.631858       3.160925    46.713407       2.089766   119.184423   \n",
       "min     311.000000      13.523936   295.000000      16.672131   191.000000   \n",
       "25%     415.000000      17.873462   407.000000      21.055901   205.000000   \n",
       "50%     471.000000      20.436207   436.000000      22.302632   397.000000   \n",
       "75%     568.000000      22.957111   470.000000      23.885139   439.000000   \n",
       "max     752.000000      30.490032   610.000000      32.143729   600.000000   \n",
       "\n",
       "                            dr_66                      dr_100                 \n",
       "      avg_speed_km/h  trip_time_s avg_speed_km/h  trip_time_s avg_speed_km/h  \n",
       "count    3960.000000  3960.000000    3960.000000  3960.000000    3960.000000  \n",
       "mean       31.770586   278.860354      40.617763   198.000000      49.627915  \n",
       "std        12.759662   119.052226      12.821854     7.000884       0.018161  \n",
       "min        16.950000   191.000000      14.507846   191.000000      49.609756  \n",
       "25%        22.207026   191.000000      24.067005   191.000000      49.609756  \n",
       "50%        24.272076   205.000000      49.609756   198.000000      49.627915  \n",
       "75%        49.609756   401.000000      49.646073   205.000000      49.646073  \n",
       "max        49.646073   701.000000      49.646073   205.000000      49.646073  "
      ]
     },
     "execution_count": 4,
     "metadata": {},
     "output_type": "execute_result"
    }
   ],
   "source": [
    "dfs = []\n",
    "scenarios = [\n",
    "    'regular_1980_0', \n",
    "    'digital_rails_1980_0', \n",
    "    'digital_rails_1980_33', \n",
    "    'digital_rails_1980_66', \n",
    "    'digital_rails_1980_100'\n",
    "]\n",
    "\n",
    "names = ['re', 'dr_0', 'dr_33', 'dr_66', 'dr_100']\n",
    "\n",
    "for s in scenarios:\n",
    "    dr = parse_arrivals(dr_events_filename_template.format(s))\n",
    "    dr['avg_speed_km/h'] = 3.6 * dr['distance_m'] / dr['trip_time_s']\n",
    "    dr = dr.drop(columns='distance_m')\n",
    "    dfs.append(dr)\n",
    "    \n",
    "df = pd.concat(dfs, axis=1, keys=names)\n",
    "df.describe()"
   ]
  },
  {
   "cell_type": "code",
   "execution_count": 5,
   "metadata": {},
   "outputs": [
    {
     "data": {
      "text/plain": [
       "<matplotlib.axes._subplots.AxesSubplot at 0x7f5b34c623c8>"
      ]
     },
     "execution_count": 5,
     "metadata": {},
     "output_type": "execute_result"
    },
    {
     "data": {
      "image/png": "[encoded data removed]",
      "text/plain": [
       "<Figure size 432x288 with 1 Axes>"
      ]
     },
     "metadata": {},
     "output_type": "display_data"
    }
   ],
   "source": [
    "df.xs('trip_time_s', axis=1, level=1).mean().plot(kind='bar', title='Trip time (s) / p (%)')"
   ]
  },
  {
   "cell_type": "code",
   "execution_count": 6,
   "metadata": {},
   "outputs": [
    {
     "data": {
      "text/plain": [
       "<matplotlib.axes._subplots.AxesSubplot at 0x7f5af345a940>"
      ]
     },
     "execution_count": 6,
     "metadata": {},
     "output_type": "execute_result"
    },
    {
     "data": {
      "image/png": "[encoded data removed]",
      "text/plain": [
       "<Figure size 432x288 with 1 Axes>"
      ]
     },
     "metadata": {},
     "output_type": "display_data"
    }
   ],
   "source": [
    "df.xs('avg_speed_km/h', axis=1, level=1).mean().plot(kind='bar', title='Avg speed (km/h) / p (%)')"
   ]
  },
  {
   "cell_type": "code",
   "execution_count": 7,
   "metadata": {},
   "outputs": [
    {
     "data": {
      "text/plain": [
       "Text(0.5,0.98,'Trip time distributions / p')"
      ]
     },
     "execution_count": 7,
     "metadata": {},
     "output_type": "execute_result"
    },
    {
     "data": {
      "image/png": "[encoded data removed]",
      "text/plain": [
       "<Figure size 432x288 with 6 Axes>"
      ]
     },
     "metadata": {},
     "output_type": "display_data"
    }
   ],
   "source": [
    "df.xs('trip_time_s', axis=1, level=1).hist()\n",
    "plt.suptitle('Trip time distributions / p')"
   ]
  },
  {
   "cell_type": "code",
   "execution_count": 8,
   "metadata": {},
   "outputs": [
    {
     "data": {
      "text/plain": [
       "Text(0.5,0.98,'Trip time distributions / p')"
      ]
     },
     "execution_count": 8,
     "metadata": {},
     "output_type": "execute_result"
    },
    {
     "data": {
      "image/png": "[encoded data removed]",
      "text/plain": [
       "<Figure size 432x288 with 6 Axes>"
      ]
     },
     "metadata": {},
     "output_type": "display_data"
    }
   ],
   "source": [
    "df.xs('avg_speed_km/h', axis=1, level=1).hist()\n",
    "plt.suptitle('Trip time distributions / p')"
   ]
  },
  {
   "cell_type": "code",
   "execution_count": 9,
   "metadata": {
    "scrolled": true
   },
   "outputs": [
    {
     "data": {
      "text/html": [
       "<div>\n",
       "<style scoped>\n",
       "    .dataframe tbody tr th:only-of-type {\n",
       "        vertical-align: middle;\n",
       "    }\n",
       "\n",
       "    .dataframe tbody tr th {\n",
       "        vertical-align: top;\n",
       "    }\n",
       "\n",
       "    .dataframe thead tr th {\n",
       "        text-align: left;\n",
       "    }\n",
       "</style>\n",
       "<table border=\"1\" class=\"dataframe\">\n",
       "  <thead>\n",
       "    <tr>\n",
       "      <th></th>\n",
       "      <th colspan=\"2\" halign=\"left\">re</th>\n",
       "      <th colspan=\"2\" halign=\"left\">dr_0</th>\n",
       "      <th colspan=\"2\" halign=\"left\">dr_33</th>\n",
       "      <th colspan=\"2\" halign=\"left\">dr_66</th>\n",
       "    </tr>\n",
       "    <tr>\n",
       "      <th></th>\n",
       "      <th>trip_time_s</th>\n",
       "      <th>avg_speed_km/h</th>\n",
       "      <th>trip_time_s</th>\n",
       "      <th>avg_speed_km/h</th>\n",
       "      <th>trip_time_s</th>\n",
       "      <th>avg_speed_km/h</th>\n",
       "      <th>trip_time_s</th>\n",
       "      <th>avg_speed_km/h</th>\n",
       "    </tr>\n",
       "  </thead>\n",
       "  <tbody>\n",
       "    <tr>\n",
       "      <th>count</th>\n",
       "      <td>3960.000000</td>\n",
       "      <td>3960.000000</td>\n",
       "      <td>3960.000000</td>\n",
       "      <td>3960.000000</td>\n",
       "      <td>2640.000000</td>\n",
       "      <td>2640.000000</td>\n",
       "      <td>1320.000000</td>\n",
       "      <td>1320.000000</td>\n",
       "    </tr>\n",
       "    <tr>\n",
       "      <th>mean</th>\n",
       "      <td>491.691414</td>\n",
       "      <td>20.546460</td>\n",
       "      <td>441.233081</td>\n",
       "      <td>22.475050</td>\n",
       "      <td>434.840152</td>\n",
       "      <td>22.841921</td>\n",
       "      <td>440.581061</td>\n",
       "      <td>22.597458</td>\n",
       "    </tr>\n",
       "    <tr>\n",
       "      <th>std</th>\n",
       "      <td>89.631858</td>\n",
       "      <td>3.160925</td>\n",
       "      <td>46.713407</td>\n",
       "      <td>2.089766</td>\n",
       "      <td>50.800931</td>\n",
       "      <td>2.233915</td>\n",
       "      <td>56.423325</td>\n",
       "      <td>2.445840</td>\n",
       "    </tr>\n",
       "    <tr>\n",
       "      <th>min</th>\n",
       "      <td>311.000000</td>\n",
       "      <td>13.523936</td>\n",
       "      <td>295.000000</td>\n",
       "      <td>16.672131</td>\n",
       "      <td>295.000000</td>\n",
       "      <td>16.950000</td>\n",
       "      <td>298.000000</td>\n",
       "      <td>14.507846</td>\n",
       "    </tr>\n",
       "    <tr>\n",
       "      <th>25%</th>\n",
       "      <td>415.000000</td>\n",
       "      <td>17.873462</td>\n",
       "      <td>407.000000</td>\n",
       "      <td>21.055901</td>\n",
       "      <td>397.000000</td>\n",
       "      <td>21.404966</td>\n",
       "      <td>401.000000</td>\n",
       "      <td>21.143451</td>\n",
       "    </tr>\n",
       "    <tr>\n",
       "      <th>50%</th>\n",
       "      <td>471.000000</td>\n",
       "      <td>20.436207</td>\n",
       "      <td>436.000000</td>\n",
       "      <td>22.302632</td>\n",
       "      <td>424.000000</td>\n",
       "      <td>22.957111</td>\n",
       "      <td>429.500000</td>\n",
       "      <td>22.631026</td>\n",
       "    </tr>\n",
       "    <tr>\n",
       "      <th>75%</th>\n",
       "      <td>568.000000</td>\n",
       "      <td>22.957111</td>\n",
       "      <td>470.000000</td>\n",
       "      <td>23.885139</td>\n",
       "      <td>465.250000</td>\n",
       "      <td>24.272076</td>\n",
       "      <td>471.000000</td>\n",
       "      <td>24.067005</td>\n",
       "    </tr>\n",
       "    <tr>\n",
       "      <th>max</th>\n",
       "      <td>752.000000</td>\n",
       "      <td>30.490032</td>\n",
       "      <td>610.000000</td>\n",
       "      <td>32.143729</td>\n",
       "      <td>600.000000</td>\n",
       "      <td>32.700965</td>\n",
       "      <td>701.000000</td>\n",
       "      <td>32.492013</td>\n",
       "    </tr>\n",
       "  </tbody>\n",
       "</table>\n",
       "</div>"
      ],
      "text/plain": [
       "                re                        dr_0                       dr_33  \\\n",
       "       trip_time_s avg_speed_km/h  trip_time_s avg_speed_km/h  trip_time_s   \n",
       "count  3960.000000    3960.000000  3960.000000    3960.000000  2640.000000   \n",
       "mean    491.691414      20.546460   441.233081      22.475050   434.840152   \n",
       "std      89.631858       3.160925    46.713407       2.089766    50.800931   \n",
       "min     311.000000      13.523936   295.000000      16.672131   295.000000   \n",
       "25%     415.000000      17.873462   407.000000      21.055901   397.000000   \n",
       "50%     471.000000      20.436207   436.000000      22.302632   424.000000   \n",
       "75%     568.000000      22.957111   470.000000      23.885139   465.250000   \n",
       "max     752.000000      30.490032   610.000000      32.143729   600.000000   \n",
       "\n",
       "                            dr_66                 \n",
       "      avg_speed_km/h  trip_time_s avg_speed_km/h  \n",
       "count    2640.000000  1320.000000    1320.000000  \n",
       "mean       22.841921   440.581061      22.597458  \n",
       "std         2.233915    56.423325       2.445840  \n",
       "min        16.950000   298.000000      14.507846  \n",
       "25%        21.404966   401.000000      21.143451  \n",
       "50%        22.957111   429.500000      22.631026  \n",
       "75%        24.272076   471.000000      24.067005  \n",
       "max        32.700965   701.000000      32.492013  "
      ]
     },
     "execution_count": 9,
     "metadata": {},
     "output_type": "execute_result"
    }
   ],
   "source": [
    "dfs = []\n",
    "scenarios = [\n",
    "    'regular_1980_0', \n",
    "    'digital_rails_1980_0', \n",
    "    'digital_rails_1980_33', \n",
    "    'digital_rails_1980_66'\n",
    "]\n",
    "names = ['re', 'dr_0', 'dr_33', 'dr_66']\n",
    "\n",
    "for s in scenarios:\n",
    "    dr = parse_arrivals(dr_events_filename_template.format(s), 'regular')\n",
    "    dr['avg_speed_km/h'] = 3.6 * dr['distance_m'] / dr['trip_time_s']\n",
    "    dr = dr.drop(columns='distance_m')\n",
    "    dfs.append(dr)\n",
    "    \n",
    "df = pd.concat(dfs, axis=1, keys=names)\n",
    "df.describe()"
   ]
  },
  {
   "cell_type": "code",
   "execution_count": 10,
   "metadata": {},
   "outputs": [
    {
     "data": {
      "text/plain": [
       "<matplotlib.axes._subplots.AxesSubplot at 0x7f5af31ef048>"
      ]
     },
     "execution_count": 10,
     "metadata": {},
     "output_type": "execute_result"
    },
    {
     "data": {
      "image/png": "[encoded data removed]",
      "text/plain": [
       "<Figure size 432x288 with 1 Axes>"
      ]
     },
     "metadata": {},
     "output_type": "display_data"
    }
   ],
   "source": [
    "df.xs('trip_time_s', axis=1, level=1).mean().plot(kind='bar', title='Trip time outside convoy (s) / p (%)')"
   ]
  },
  {
   "cell_type": "code",
   "execution_count": 11,
   "metadata": {},
   "outputs": [
    {
     "data": {
      "text/plain": [
       "<matplotlib.axes._subplots.AxesSubplot at 0x7f5af0daf828>"
      ]
     },
     "execution_count": 11,
     "metadata": {},
     "output_type": "execute_result"
    },
    {
     "data": {
      "image/png": "[encoded data removed]",
      "text/plain": [
       "<Figure size 432x288 with 1 Axes>"
      ]
     },
     "metadata": {},
     "output_type": "display_data"
    }
   ],
   "source": [
    "df.xs('avg_speed_km/h', axis=1, level=1).mean().plot(kind='bar', title='Avg speed outside convoy (km/h) / p (%)')"
   ]
  },
  {
   "cell_type": "code",
   "execution_count": 12,
   "metadata": {},
   "outputs": [
    {
     "data": {
      "text/plain": [
       "Text(0.5,0.98,'Trip time distributions outside convoy / p')"
      ]
     },
     "execution_count": 12,
     "metadata": {},
     "output_type": "execute_result"
    },
    {
     "data": {
      "image/png": "[encoded data removed]",
      "text/plain": [
       "<Figure size 432x288 with 4 Axes>"
      ]
     },
     "metadata": {},
     "output_type": "display_data"
    }
   ],
   "source": [
    "df.xs('trip_time_s', axis=1, level=1).hist()\n",
    "plt.suptitle('Trip time distributions outside convoy / p')"
   ]
  },
  {
   "cell_type": "code",
   "execution_count": 13,
   "metadata": {},
   "outputs": [
    {
     "data": {
      "text/plain": [
       "Text(0.5,0.98,'Avg speed distributions outside convoy / p')"
      ]
     },
     "execution_count": 13,
     "metadata": {},
     "output_type": "execute_result"
    },
    {
     "data": {
      "image/png": "[encoded data removed]",
      "text/plain": [
       "<Figure size 432x288 with 4 Axes>"
      ]
     },
     "metadata": {},
     "output_type": "display_data"
    }
   ],
   "source": [
    "df.xs('avg_speed_km/h', axis=1, level=1).hist()\n",
    "plt.suptitle('Avg speed distributions outside convoy / p')"
   ]
  },
  {
   "cell_type": "markdown",
   "metadata": {},
   "source": [
    "- Parece que as velocidades estão ligeiramente baixas (A média da CET no horário de pico é de ~20km/h). Precisa calibrar o modelo?\n",
    "- Aparentemente, aumentar a proporção de veículos nos DR aumenta a velocidade média. Isso pode ser um efeito do fato de eu ter esquecido de diferenciar a contagem entre veículos dentro e fora dos DR. Pode ser que, com mais veículos nos DR, sobre mais veículos \"lentos\" fora dos DR, abaixando a velocidade de cada veículo conforme o modelo de velocidades. Dá pra confirmar essa hipótese?"
   ]
  },
  {
   "cell_type": "code",
   "execution_count": null,
   "metadata": {},
   "outputs": [],
   "source": []
  }
 ],
 "metadata": {
  "kernelspec": {
   "display_name": "Python 3",
   "language": "python",
   "name": "python3"
  },
  "language_info": {
   "codemirror_mode": {
    "name": "ipython",
    "version": 3
   },
   "file_extension": ".py",
   "mimetype": "text/x-python",
   "name": "python",
   "nbconvert_exporter": "python",
   "pygments_lexer": "ipython3",
   "version": "3.6.5"
  }
 },
 "nbformat": 4,
 "nbformat_minor": 2
}
