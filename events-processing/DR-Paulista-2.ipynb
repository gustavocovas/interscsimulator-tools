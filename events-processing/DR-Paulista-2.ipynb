{
 "cells": [
  {
   "cell_type": "code",
   "execution_count": 1,
   "metadata": {},
   "outputs": [],
   "source": [
    "%matplotlib inline\n",
    "\n",
    "import pandas as pd\n",
    "import numpy as np\n",
    "import xml.etree.ElementTree as ET\n",
    "import matplotlib.pyplot as plt\n",
    "import os.path"
   ]
  },
  {
   "cell_type": "markdown",
   "metadata": {},
   "source": [
    "O Cenário anterior tinha o problema dos comboios muito compridos. Limitei o fluxo a 1980 veículos/hora em cada sentido. Comboios de no máximo 22 carros por faixa."
   ]
  },
  {
   "cell_type": "code",
   "execution_count": 2,
   "metadata": {},
   "outputs": [],
   "source": [
    "scenarios_folder = os.path.expanduser('~/Developer/interscsimulator/mock-simulators/smart_city_model/')\n",
    "dr_events_filename_template = scenarios_folder + 'av_paulista_{}_scenario/events.xml'"
   ]
  },
  {
   "cell_type": "code",
   "execution_count": 3,
   "metadata": {},
   "outputs": [],
   "source": [
    "def parse_arrivals(filename, prefix=''):\n",
    "    tree = ET.parse(filename)\n",
    "    root = tree.getroot()\n",
    "\n",
    "    events = []\n",
    "    for child in root:        \n",
    "        if child.attrib['type'] == 'arrival' and (len(prefix) == 0 or (prefix in child.attrib['person'])):\n",
    "            # Sample arrival event:\n",
    "            # <event time=\"918\" type=\"arrival\" person=\"paraiso5_79\" vehicle=\"paraiso5_79\" \n",
    "            #     link=\"40\" legMode=\"car\" trip_time=\"205\" distance=\"2825\" action=\"ok\"/>\n",
    "\n",
    "            trip_time = int(child.attrib['trip_time'])\n",
    "            distance = int(child.attrib['distance'])\n",
    "\n",
    "            events.append({'trip_time_s': trip_time, 'distance_m': distance})\n",
    "\n",
    "    return pd.DataFrame(events)"
   ]
  },
  {
   "cell_type": "code",
   "execution_count": 4,
   "metadata": {},
   "outputs": [
    {
     "data": {
      "text/html": [
       "<div>\n",
       "<style scoped>\n",
       "    .dataframe tbody tr th:only-of-type {\n",
       "        vertical-align: middle;\n",
       "    }\n",
       "\n",
       "    .dataframe tbody tr th {\n",
       "        vertical-align: top;\n",
       "    }\n",
       "\n",
       "    .dataframe thead tr th {\n",
       "        text-align: left;\n",
       "    }\n",
       "</style>\n",
       "<table border=\"1\" class=\"dataframe\">\n",
       "  <thead>\n",
       "    <tr>\n",
       "      <th></th>\n",
       "      <th colspan=\"2\" halign=\"left\">re</th>\n",
       "      <th colspan=\"2\" halign=\"left\">dr_0</th>\n",
       "      <th colspan=\"2\" halign=\"left\">dr_33</th>\n",
       "      <th colspan=\"2\" halign=\"left\">dr_66</th>\n",
       "      <th colspan=\"2\" halign=\"left\">dr_100</th>\n",
       "    </tr>\n",
       "    <tr>\n",
       "      <th></th>\n",
       "      <th>trip_time_s</th>\n",
       "      <th>avg_speed_km/h</th>\n",
       "      <th>trip_time_s</th>\n",
       "      <th>avg_speed_km/h</th>\n",
       "      <th>trip_time_s</th>\n",
       "      <th>avg_speed_km/h</th>\n",
       "      <th>trip_time_s</th>\n",
       "      <th>avg_speed_km/h</th>\n",
       "      <th>trip_time_s</th>\n",
       "      <th>avg_speed_km/h</th>\n",
       "    </tr>\n",
       "  </thead>\n",
       "  <tbody>\n",
       "    <tr>\n",
       "      <th>count</th>\n",
       "      <td>3960.000000</td>\n",
       "      <td>3960.000000</td>\n",
       "      <td>3960.000000</td>\n",
       "      <td>3960.000000</td>\n",
       "      <td>3960.000000</td>\n",
       "      <td>3960.000000</td>\n",
       "      <td>3960.000000</td>\n",
       "      <td>3960.000000</td>\n",
       "      <td>3960.000000</td>\n",
       "      <td>3960.000000</td>\n",
       "    </tr>\n",
       "    <tr>\n",
       "      <th>mean</th>\n",
       "      <td>557.055808</td>\n",
       "      <td>18.168510</td>\n",
       "      <td>678.748990</td>\n",
       "      <td>14.917505</td>\n",
       "      <td>430.761869</td>\n",
       "      <td>28.743946</td>\n",
       "      <td>288.793939</td>\n",
       "      <td>40.147437</td>\n",
       "      <td>198.000000</td>\n",
       "      <td>49.627915</td>\n",
       "    </tr>\n",
       "    <tr>\n",
       "      <th>std</th>\n",
       "      <td>94.705209</td>\n",
       "      <td>3.222520</td>\n",
       "      <td>106.663795</td>\n",
       "      <td>2.925945</td>\n",
       "      <td>177.496343</td>\n",
       "      <td>14.901928</td>\n",
       "      <td>132.285771</td>\n",
       "      <td>13.500858</td>\n",
       "      <td>7.000884</td>\n",
       "      <td>0.018161</td>\n",
       "    </tr>\n",
       "    <tr>\n",
       "      <th>min</th>\n",
       "      <td>323.000000</td>\n",
       "      <td>12.540074</td>\n",
       "      <td>296.000000</td>\n",
       "      <td>9.981474</td>\n",
       "      <td>191.000000</td>\n",
       "      <td>13.071979</td>\n",
       "      <td>191.000000</td>\n",
       "      <td>14.302262</td>\n",
       "      <td>191.000000</td>\n",
       "      <td>49.609756</td>\n",
       "    </tr>\n",
       "    <tr>\n",
       "      <th>25%</th>\n",
       "      <td>482.750000</td>\n",
       "      <td>16.015748</td>\n",
       "      <td>629.000000</td>\n",
       "      <td>13.005115</td>\n",
       "      <td>205.000000</td>\n",
       "      <td>17.325383</td>\n",
       "      <td>191.000000</td>\n",
       "      <td>23.113636</td>\n",
       "      <td>191.000000</td>\n",
       "      <td>49.609756</td>\n",
       "    </tr>\n",
       "    <tr>\n",
       "      <th>50%</th>\n",
       "      <td>585.000000</td>\n",
       "      <td>17.092437</td>\n",
       "      <td>693.000000</td>\n",
       "      <td>14.528571</td>\n",
       "      <td>485.000000</td>\n",
       "      <td>19.673029</td>\n",
       "      <td>205.000000</td>\n",
       "      <td>49.609756</td>\n",
       "      <td>198.000000</td>\n",
       "      <td>49.627915</td>\n",
       "    </tr>\n",
       "    <tr>\n",
       "      <th>75%</th>\n",
       "      <td>625.250000</td>\n",
       "      <td>19.713929</td>\n",
       "      <td>753.000000</td>\n",
       "      <td>15.791925</td>\n",
       "      <td>579.000000</td>\n",
       "      <td>49.609756</td>\n",
       "      <td>429.000000</td>\n",
       "      <td>49.646073</td>\n",
       "      <td>205.000000</td>\n",
       "      <td>49.646073</td>\n",
       "    </tr>\n",
       "    <tr>\n",
       "      <th>max</th>\n",
       "      <td>811.000000</td>\n",
       "      <td>29.650146</td>\n",
       "      <td>950.000000</td>\n",
       "      <td>32.082019</td>\n",
       "      <td>778.000000</td>\n",
       "      <td>49.646073</td>\n",
       "      <td>663.000000</td>\n",
       "      <td>49.646073</td>\n",
       "      <td>205.000000</td>\n",
       "      <td>49.646073</td>\n",
       "    </tr>\n",
       "  </tbody>\n",
       "</table>\n",
       "</div>"
      ],
      "text/plain": [
       "                re                        dr_0                       dr_33  \\\n",
       "       trip_time_s avg_speed_km/h  trip_time_s avg_speed_km/h  trip_time_s   \n",
       "count  3960.000000    3960.000000  3960.000000    3960.000000  3960.000000   \n",
       "mean    557.055808      18.168510   678.748990      14.917505   430.761869   \n",
       "std      94.705209       3.222520   106.663795       2.925945   177.496343   \n",
       "min     323.000000      12.540074   296.000000       9.981474   191.000000   \n",
       "25%     482.750000      16.015748   629.000000      13.005115   205.000000   \n",
       "50%     585.000000      17.092437   693.000000      14.528571   485.000000   \n",
       "75%     625.250000      19.713929   753.000000      15.791925   579.000000   \n",
       "max     811.000000      29.650146   950.000000      32.082019   778.000000   \n",
       "\n",
       "                            dr_66                      dr_100                 \n",
       "      avg_speed_km/h  trip_time_s avg_speed_km/h  trip_time_s avg_speed_km/h  \n",
       "count    3960.000000  3960.000000    3960.000000  3960.000000    3960.000000  \n",
       "mean       28.743946   288.793939      40.147437   198.000000      49.627915  \n",
       "std        14.901928   132.285771      13.500858     7.000884       0.018161  \n",
       "min        13.071979   191.000000      14.302262   191.000000      49.609756  \n",
       "25%        17.325383   191.000000      23.113636   191.000000      49.609756  \n",
       "50%        19.673029   205.000000      49.609756   198.000000      49.627915  \n",
       "75%        49.609756   429.000000      49.646073   205.000000      49.646073  \n",
       "max        49.646073   663.000000      49.646073   205.000000      49.646073  "
      ]
     },
     "execution_count": 4,
     "metadata": {},
     "output_type": "execute_result"
    }
   ],
   "source": [
    "dfs = []\n",
    "scenarios = [\n",
    "    'regular_1980_0', \n",
    "    'digital_rails_1980_0', \n",
    "    'digital_rails_1980_33', \n",
    "    'digital_rails_1980_66', \n",
    "    'digital_rails_1980_100'\n",
    "]\n",
    "\n",
    "names = ['re', 'dr_0', 'dr_33', 'dr_66', 'dr_100']\n",
    "\n",
    "for s in scenarios:\n",
    "    dr = parse_arrivals(dr_events_filename_template.format(s))\n",
    "    dr['avg_speed_km/h'] = 3.6 * dr['distance_m'] / dr['trip_time_s']\n",
    "    dr = dr.drop(columns='distance_m')\n",
    "    dfs.append(dr)\n",
    "    \n",
    "df = pd.concat(dfs, axis=1, keys=names)\n",
    "df.describe()"
   ]
  },
  {
   "cell_type": "code",
   "execution_count": 5,
   "metadata": {},
   "outputs": [
    {
     "data": {
      "text/plain": [
       "<matplotlib.axes._subplots.AxesSubplot at 0x7fc342da5080>"
      ]
     },
     "execution_count": 5,
     "metadata": {},
     "output_type": "execute_result"
    },
    {
     "data": {
      "image/png": "[encoded data removed]",
      "text/plain": [
       "<Figure size 432x288 with 1 Axes>"
      ]
     },
     "metadata": {},
     "output_type": "display_data"
    }
   ],
   "source": [
    "df.xs('trip_time_s', axis=1, level=1).mean().plot(kind='bar', title='Trip time (s) / p (%)')"
   ]
  },
  {
   "cell_type": "code",
   "execution_count": 6,
   "metadata": {},
   "outputs": [
    {
     "data": {
      "text/plain": [
       "<matplotlib.axes._subplots.AxesSubplot at 0x7fc2f77b9518>"
      ]
     },
     "execution_count": 6,
     "metadata": {},
     "output_type": "execute_result"
    },
    {
     "data": {
      "image/png": "[encoded data removed]",
      "text/plain": [
       "<Figure size 432x288 with 1 Axes>"
      ]
     },
     "metadata": {},
     "output_type": "display_data"
    }
   ],
   "source": [
    "df.xs('avg_speed_km/h', axis=1, level=1).mean().plot(kind='bar', title='Avg speed (km/h) / p (%)')"
   ]
  },
  {
   "cell_type": "code",
   "execution_count": 7,
   "metadata": {},
   "outputs": [
    {
     "data": {
      "text/plain": [
       "Text(0.5,0.98,'Trip time distributions / p')"
      ]
     },
     "execution_count": 7,
     "metadata": {},
     "output_type": "execute_result"
    },
    {
     "data": {
      "image/png": "[encoded data removed]",
      "text/plain": [
       "<Figure size 432x288 with 6 Axes>"
      ]
     },
     "metadata": {},
     "output_type": "display_data"
    }
   ],
   "source": [
    "df.xs('trip_time_s', axis=1, level=1).hist()\n",
    "plt.suptitle('Trip time distributions / p')"
   ]
  },
  {
   "cell_type": "code",
   "execution_count": 8,
   "metadata": {},
   "outputs": [
    {
     "data": {
      "text/plain": [
       "Text(0.5,0.98,'Trip time distributions / p')"
      ]
     },
     "execution_count": 8,
     "metadata": {},
     "output_type": "execute_result"
    },
    {
     "data": {
      "image/png": "[encoded data removed]",
      "text/plain": [
       "<Figure size 432x288 with 6 Axes>"
      ]
     },
     "metadata": {},
     "output_type": "display_data"
    }
   ],
   "source": [
    "df.xs('avg_speed_km/h', axis=1, level=1).hist()\n",
    "plt.suptitle('Trip time distributions / p')"
   ]
  },
  {
   "cell_type": "code",
   "execution_count": 9,
   "metadata": {
    "scrolled": true
   },
   "outputs": [
    {
     "data": {
      "text/html": [
       "<div>\n",
       "<style scoped>\n",
       "    .dataframe tbody tr th:only-of-type {\n",
       "        vertical-align: middle;\n",
       "    }\n",
       "\n",
       "    .dataframe tbody tr th {\n",
       "        vertical-align: top;\n",
       "    }\n",
       "\n",
       "    .dataframe thead tr th {\n",
       "        text-align: left;\n",
       "    }\n",
       "</style>\n",
       "<table border=\"1\" class=\"dataframe\">\n",
       "  <thead>\n",
       "    <tr>\n",
       "      <th></th>\n",
       "      <th colspan=\"2\" halign=\"left\">re</th>\n",
       "      <th colspan=\"2\" halign=\"left\">dr_0</th>\n",
       "      <th colspan=\"2\" halign=\"left\">dr_33</th>\n",
       "      <th colspan=\"2\" halign=\"left\">dr_66</th>\n",
       "    </tr>\n",
       "    <tr>\n",
       "      <th></th>\n",
       "      <th>trip_time_s</th>\n",
       "      <th>avg_speed_km/h</th>\n",
       "      <th>trip_time_s</th>\n",
       "      <th>avg_speed_km/h</th>\n",
       "      <th>trip_time_s</th>\n",
       "      <th>avg_speed_km/h</th>\n",
       "      <th>trip_time_s</th>\n",
       "      <th>avg_speed_km/h</th>\n",
       "    </tr>\n",
       "  </thead>\n",
       "  <tbody>\n",
       "    <tr>\n",
       "      <th>count</th>\n",
       "      <td>3960.000000</td>\n",
       "      <td>3960.000000</td>\n",
       "      <td>3960.000000</td>\n",
       "      <td>3960.000000</td>\n",
       "      <td>2640.000000</td>\n",
       "      <td>2640.000000</td>\n",
       "      <td>1320.000000</td>\n",
       "      <td>1320.000000</td>\n",
       "    </tr>\n",
       "    <tr>\n",
       "      <th>mean</th>\n",
       "      <td>557.055808</td>\n",
       "      <td>18.168510</td>\n",
       "      <td>678.748990</td>\n",
       "      <td>14.917505</td>\n",
       "      <td>547.142803</td>\n",
       "      <td>18.301962</td>\n",
       "      <td>470.381818</td>\n",
       "      <td>21.186481</td>\n",
       "    </tr>\n",
       "    <tr>\n",
       "      <th>std</th>\n",
       "      <td>94.705209</td>\n",
       "      <td>3.222520</td>\n",
       "      <td>106.663795</td>\n",
       "      <td>2.925945</td>\n",
       "      <td>81.178351</td>\n",
       "      <td>2.431883</td>\n",
       "      <td>54.113768</td>\n",
       "      <td>2.722051</td>\n",
       "    </tr>\n",
       "    <tr>\n",
       "      <th>min</th>\n",
       "      <td>323.000000</td>\n",
       "      <td>12.540074</td>\n",
       "      <td>296.000000</td>\n",
       "      <td>9.981474</td>\n",
       "      <td>297.000000</td>\n",
       "      <td>13.071979</td>\n",
       "      <td>313.000000</td>\n",
       "      <td>14.302262</td>\n",
       "    </tr>\n",
       "    <tr>\n",
       "      <th>25%</th>\n",
       "      <td>482.750000</td>\n",
       "      <td>16.015748</td>\n",
       "      <td>629.000000</td>\n",
       "      <td>13.005115</td>\n",
       "      <td>485.000000</td>\n",
       "      <td>16.614899</td>\n",
       "      <td>429.000000</td>\n",
       "      <td>19.273171</td>\n",
       "    </tr>\n",
       "    <tr>\n",
       "      <th>50%</th>\n",
       "      <td>585.000000</td>\n",
       "      <td>17.092437</td>\n",
       "      <td>693.000000</td>\n",
       "      <td>14.528571</td>\n",
       "      <td>540.000000</td>\n",
       "      <td>18.027376</td>\n",
       "      <td>470.000000</td>\n",
       "      <td>20.840440</td>\n",
       "    </tr>\n",
       "    <tr>\n",
       "      <th>75%</th>\n",
       "      <td>625.250000</td>\n",
       "      <td>19.713929</td>\n",
       "      <td>753.000000</td>\n",
       "      <td>15.791925</td>\n",
       "      <td>611.000000</td>\n",
       "      <td>19.673029</td>\n",
       "      <td>505.000000</td>\n",
       "      <td>23.113636</td>\n",
       "    </tr>\n",
       "    <tr>\n",
       "      <th>max</th>\n",
       "      <td>811.000000</td>\n",
       "      <td>29.650146</td>\n",
       "      <td>950.000000</td>\n",
       "      <td>32.082019</td>\n",
       "      <td>778.000000</td>\n",
       "      <td>32.700965</td>\n",
       "      <td>663.000000</td>\n",
       "      <td>32.492013</td>\n",
       "    </tr>\n",
       "  </tbody>\n",
       "</table>\n",
       "</div>"
      ],
      "text/plain": [
       "                re                        dr_0                       dr_33  \\\n",
       "       trip_time_s avg_speed_km/h  trip_time_s avg_speed_km/h  trip_time_s   \n",
       "count  3960.000000    3960.000000  3960.000000    3960.000000  2640.000000   \n",
       "mean    557.055808      18.168510   678.748990      14.917505   547.142803   \n",
       "std      94.705209       3.222520   106.663795       2.925945    81.178351   \n",
       "min     323.000000      12.540074   296.000000       9.981474   297.000000   \n",
       "25%     482.750000      16.015748   629.000000      13.005115   485.000000   \n",
       "50%     585.000000      17.092437   693.000000      14.528571   540.000000   \n",
       "75%     625.250000      19.713929   753.000000      15.791925   611.000000   \n",
       "max     811.000000      29.650146   950.000000      32.082019   778.000000   \n",
       "\n",
       "                            dr_66                 \n",
       "      avg_speed_km/h  trip_time_s avg_speed_km/h  \n",
       "count    2640.000000  1320.000000    1320.000000  \n",
       "mean       18.301962   470.381818      21.186481  \n",
       "std         2.431883    54.113768       2.722051  \n",
       "min        13.071979   313.000000      14.302262  \n",
       "25%        16.614899   429.000000      19.273171  \n",
       "50%        18.027376   470.000000      20.840440  \n",
       "75%        19.673029   505.000000      23.113636  \n",
       "max        32.700965   663.000000      32.492013  "
      ]
     },
     "execution_count": 9,
     "metadata": {},
     "output_type": "execute_result"
    }
   ],
   "source": [
    "dfs = []\n",
    "scenarios = [\n",
    "    'regular_1980_0', \n",
    "    'digital_rails_1980_0', \n",
    "    'digital_rails_1980_33', \n",
    "    'digital_rails_1980_66'\n",
    "]\n",
    "names = ['re', 'dr_0', 'dr_33', 'dr_66']\n",
    "\n",
    "for s in scenarios:\n",
    "    dr = parse_arrivals(dr_events_filename_template.format(s), 'regular')\n",
    "    dr['avg_speed_km/h'] = 3.6 * dr['distance_m'] / dr['trip_time_s']\n",
    "    dr = dr.drop(columns='distance_m')\n",
    "    dfs.append(dr)\n",
    "    \n",
    "df = pd.concat(dfs, axis=1, keys=names)\n",
    "df.describe()"
   ]
  },
  {
   "cell_type": "code",
   "execution_count": 10,
   "metadata": {},
   "outputs": [
    {
     "data": {
      "text/plain": [
       "<matplotlib.axes._subplots.AxesSubplot at 0x7fc2f746b780>"
      ]
     },
     "execution_count": 10,
     "metadata": {},
     "output_type": "execute_result"
    },
    {
     "data": {
      "image/png": "[encoded data removed]",
      "text/plain": [
       "<Figure size 432x288 with 1 Axes>"
      ]
     },
     "metadata": {},
     "output_type": "display_data"
    }
   ],
   "source": [
    "df.xs('trip_time_s', axis=1, level=1).mean().plot(kind='bar', title='Trip time outside convoy (s) / p (%)')"
   ]
  },
  {
   "cell_type": "code",
   "execution_count": 11,
   "metadata": {},
   "outputs": [
    {
     "data": {
      "text/plain": [
       "<matplotlib.axes._subplots.AxesSubplot at 0x7fc2f4da7710>"
      ]
     },
     "execution_count": 11,
     "metadata": {},
     "output_type": "execute_result"
    },
    {
     "data": {
      "image/png": "[encoded data removed]",
      "text/plain": [
       "<Figure size 432x288 with 1 Axes>"
      ]
     },
     "metadata": {},
     "output_type": "display_data"
    }
   ],
   "source": [
    "df.xs('avg_speed_km/h', axis=1, level=1).mean().plot(kind='bar', title='Avg speed outside convoy (km/h) / p (%)')"
   ]
  },
  {
   "cell_type": "code",
   "execution_count": 12,
   "metadata": {},
   "outputs": [
    {
     "data": {
      "text/plain": [
       "Text(0.5,0.98,'Trip time distributions outside convoy / p')"
      ]
     },
     "execution_count": 12,
     "metadata": {},
     "output_type": "execute_result"
    },
    {
     "data": {
      "image/png": "[encoded data removed]",
      "text/plain": [
       "<Figure size 432x288 with 4 Axes>"
      ]
     },
     "metadata": {},
     "output_type": "display_data"
    }
   ],
   "source": [
    "df.xs('trip_time_s', axis=1, level=1).hist()\n",
    "plt.suptitle('Trip time distributions outside convoy / p')"
   ]
  },
  {
   "cell_type": "code",
   "execution_count": 13,
   "metadata": {},
   "outputs": [
    {
     "data": {
      "text/plain": [
       "Text(0.5,0.98,'Avg speed distributions outside convoy / p')"
      ]
     },
     "execution_count": 13,
     "metadata": {},
     "output_type": "execute_result"
    },
    {
     "data": {
      "image/png": "[encoded data removed]",
      "text/plain": [
       "<Figure size 432x288 with 4 Axes>"
      ]
     },
     "metadata": {},
     "output_type": "display_data"
    }
   ],
   "source": [
    "df.xs('avg_speed_km/h', axis=1, level=1).hist()\n",
    "plt.suptitle('Avg speed distributions outside convoy / p')"
   ]
  },
  {
   "cell_type": "markdown",
   "metadata": {},
   "source": [
    "- Parece que as velocidades estão ligeiramente baixas (A média da CET no horário de pico é de ~20km/h). Precisa calibrar o modelo?\n",
    "- Aparentemente, aumentar a proporção de veículos nos DR aumenta a velocidade média. Isso pode ser um efeito do fato de eu ter esquecido de diferenciar a contagem entre veículos dentro e fora dos DR. Pode ser que, com mais veículos nos DR, sobre mais veículos \"lentos\" fora dos DR, abaixando a velocidade de cada veículo conforme o modelo de velocidades. Dá pra confirmar essa hipótese?"
   ]
  },
  {
   "cell_type": "code",
   "execution_count": null,
   "metadata": {},
   "outputs": [],
   "source": []
  }
 ],
 "metadata": {
  "kernelspec": {
   "display_name": "Python 3",
   "language": "python",
   "name": "python3"
  },
  "language_info": {
   "codemirror_mode": {
    "name": "ipython",
    "version": 3
   },
   "file_extension": ".py",
   "mimetype": "text/x-python",
   "name": "python",
   "nbconvert_exporter": "python",
   "pygments_lexer": "ipython3",
   "version": "3.6.5"
  }
 },
 "nbformat": 4,
 "nbformat_minor": 2
}
