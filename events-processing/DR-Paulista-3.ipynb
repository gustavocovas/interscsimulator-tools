{
 "cells": [
  {
   "cell_type": "code",
   "execution_count": 1,
   "metadata": {},
   "outputs": [],
   "source": [
    "%matplotlib inline\n",
    "\n",
    "import pandas as pd\n",
    "import numpy as np\n",
    "import xml.etree.ElementTree as ET\n",
    "import matplotlib.pyplot as plt\n",
    "import os.path"
   ]
  },
  {
   "cell_type": "markdown",
   "metadata": {},
   "source": [
    "O Cenário anterior tinha o problema dos comboios muito compridos. Limitei o fluxo a 1980 veículos/hora em cada sentido. Comboios de no máximo 22 carros por faixa."
   ]
  },
  {
   "cell_type": "code",
   "execution_count": 2,
   "metadata": {},
   "outputs": [],
   "source": [
    "scenarios_folder = os.path.expanduser('~/Developer/interscsimulator/mock-simulators/smart_city_model/')\n",
    "dr_events_filename_template = scenarios_folder + '{}/events.xml'"
   ]
  },
  {
   "cell_type": "code",
   "execution_count": 3,
   "metadata": {},
   "outputs": [],
   "source": [
    "def parse_arrivals(filename, prefix=''):\n",
    "    tree = ET.parse(filename)\n",
    "    root = tree.getroot()\n",
    "\n",
    "    events = []\n",
    "    for child in root:        \n",
    "        if child.attrib['type'] == 'arrival' and (len(prefix) == 0 or (prefix in child.attrib['person'])):\n",
    "            # Sample arrival event:\n",
    "            # <event time=\"918\" type=\"arrival\" person=\"paraiso5_79\" vehicle=\"paraiso5_79\" \n",
    "            #     link=\"40\" legMode=\"car\" trip_time=\"205\" distance=\"2825\" action=\"ok\"/>\n",
    "\n",
    "            trip_time = int(child.attrib['trip_time'])\n",
    "            distance = int(child.attrib['distance'])\n",
    "\n",
    "            events.append({'trip_time_s': trip_time, 'distance_m': distance})\n",
    "\n",
    "    return pd.DataFrame(events)"
   ]
  },
  {
   "cell_type": "code",
   "execution_count": 7,
   "metadata": {},
   "outputs": [
    {
     "ename": "FileNotFoundError",
     "evalue": "[Errno 2] No such file or directory: '/home/gustavo/Developer/interscsimulator/mock-simulators/smart_city_model/peak_dr-algo_0_0/events.xml'",
     "output_type": "error",
     "traceback": [
      "\u001b[0;31m---------------------------------------------------------------------------\u001b[0m",
      "\u001b[0;31mFileNotFoundError\u001b[0m                         Traceback (most recent call last)",
      "\u001b[0;32m<ipython-input-7-1f24bc601cf0>\u001b[0m in \u001b[0;36m<module>\u001b[0;34m()\u001b[0m\n\u001b[1;32m     14\u001b[0m \u001b[0;34m\u001b[0m\u001b[0m\n\u001b[1;32m     15\u001b[0m \u001b[0;32mfor\u001b[0m \u001b[0ms\u001b[0m \u001b[0;32min\u001b[0m \u001b[0mscenarios\u001b[0m\u001b[0;34m:\u001b[0m\u001b[0;34m\u001b[0m\u001b[0m\n\u001b[0;32m---> 16\u001b[0;31m     \u001b[0mdr\u001b[0m \u001b[0;34m=\u001b[0m \u001b[0mparse_arrivals\u001b[0m\u001b[0;34m(\u001b[0m\u001b[0mdr_events_filename_template\u001b[0m\u001b[0;34m.\u001b[0m\u001b[0mformat\u001b[0m\u001b[0;34m(\u001b[0m\u001b[0ms\u001b[0m\u001b[0;34m)\u001b[0m\u001b[0;34m)\u001b[0m\u001b[0;34m\u001b[0m\u001b[0m\n\u001b[0m\u001b[1;32m     17\u001b[0m     \u001b[0mdr\u001b[0m\u001b[0;34m[\u001b[0m\u001b[0;34m'avg_speed_km/h'\u001b[0m\u001b[0;34m]\u001b[0m \u001b[0;34m=\u001b[0m \u001b[0;36m3.6\u001b[0m \u001b[0;34m*\u001b[0m \u001b[0mdr\u001b[0m\u001b[0;34m[\u001b[0m\u001b[0;34m'distance_m'\u001b[0m\u001b[0;34m]\u001b[0m \u001b[0;34m/\u001b[0m \u001b[0mdr\u001b[0m\u001b[0;34m[\u001b[0m\u001b[0;34m'trip_time_s'\u001b[0m\u001b[0;34m]\u001b[0m\u001b[0;34m\u001b[0m\u001b[0m\n\u001b[1;32m     18\u001b[0m     \u001b[0mdr\u001b[0m \u001b[0;34m=\u001b[0m \u001b[0mdr\u001b[0m\u001b[0;34m.\u001b[0m\u001b[0mdrop\u001b[0m\u001b[0;34m(\u001b[0m\u001b[0mcolumns\u001b[0m\u001b[0;34m=\u001b[0m\u001b[0;34m'distance_m'\u001b[0m\u001b[0;34m)\u001b[0m\u001b[0;34m\u001b[0m\u001b[0m\n",
      "\u001b[0;32m<ipython-input-3-9b2172bcc508>\u001b[0m in \u001b[0;36mparse_arrivals\u001b[0;34m(filename, prefix)\u001b[0m\n\u001b[1;32m      1\u001b[0m \u001b[0;32mdef\u001b[0m \u001b[0mparse_arrivals\u001b[0m\u001b[0;34m(\u001b[0m\u001b[0mfilename\u001b[0m\u001b[0;34m,\u001b[0m \u001b[0mprefix\u001b[0m\u001b[0;34m=\u001b[0m\u001b[0;34m''\u001b[0m\u001b[0;34m)\u001b[0m\u001b[0;34m:\u001b[0m\u001b[0;34m\u001b[0m\u001b[0m\n\u001b[0;32m----> 2\u001b[0;31m     \u001b[0mtree\u001b[0m \u001b[0;34m=\u001b[0m \u001b[0mET\u001b[0m\u001b[0;34m.\u001b[0m\u001b[0mparse\u001b[0m\u001b[0;34m(\u001b[0m\u001b[0mfilename\u001b[0m\u001b[0;34m)\u001b[0m\u001b[0;34m\u001b[0m\u001b[0m\n\u001b[0m\u001b[1;32m      3\u001b[0m     \u001b[0mroot\u001b[0m \u001b[0;34m=\u001b[0m \u001b[0mtree\u001b[0m\u001b[0;34m.\u001b[0m\u001b[0mgetroot\u001b[0m\u001b[0;34m(\u001b[0m\u001b[0;34m)\u001b[0m\u001b[0;34m\u001b[0m\u001b[0m\n\u001b[1;32m      4\u001b[0m \u001b[0;34m\u001b[0m\u001b[0m\n\u001b[1;32m      5\u001b[0m     \u001b[0mevents\u001b[0m \u001b[0;34m=\u001b[0m \u001b[0;34m[\u001b[0m\u001b[0;34m]\u001b[0m\u001b[0;34m\u001b[0m\u001b[0m\n",
      "\u001b[0;32m/usr/lib/python3.6/xml/etree/ElementTree.py\u001b[0m in \u001b[0;36mparse\u001b[0;34m(source, parser)\u001b[0m\n\u001b[1;32m   1194\u001b[0m     \"\"\"\n\u001b[1;32m   1195\u001b[0m     \u001b[0mtree\u001b[0m \u001b[0;34m=\u001b[0m \u001b[0mElementTree\u001b[0m\u001b[0;34m(\u001b[0m\u001b[0;34m)\u001b[0m\u001b[0;34m\u001b[0m\u001b[0m\n\u001b[0;32m-> 1196\u001b[0;31m     \u001b[0mtree\u001b[0m\u001b[0;34m.\u001b[0m\u001b[0mparse\u001b[0m\u001b[0;34m(\u001b[0m\u001b[0msource\u001b[0m\u001b[0;34m,\u001b[0m \u001b[0mparser\u001b[0m\u001b[0;34m)\u001b[0m\u001b[0;34m\u001b[0m\u001b[0m\n\u001b[0m\u001b[1;32m   1197\u001b[0m     \u001b[0;32mreturn\u001b[0m \u001b[0mtree\u001b[0m\u001b[0;34m\u001b[0m\u001b[0m\n\u001b[1;32m   1198\u001b[0m \u001b[0;34m\u001b[0m\u001b[0m\n",
      "\u001b[0;32m/usr/lib/python3.6/xml/etree/ElementTree.py\u001b[0m in \u001b[0;36mparse\u001b[0;34m(self, source, parser)\u001b[0m\n\u001b[1;32m    584\u001b[0m         \u001b[0mclose_source\u001b[0m \u001b[0;34m=\u001b[0m \u001b[0;32mFalse\u001b[0m\u001b[0;34m\u001b[0m\u001b[0m\n\u001b[1;32m    585\u001b[0m         \u001b[0;32mif\u001b[0m \u001b[0;32mnot\u001b[0m \u001b[0mhasattr\u001b[0m\u001b[0;34m(\u001b[0m\u001b[0msource\u001b[0m\u001b[0;34m,\u001b[0m \u001b[0;34m\"read\"\u001b[0m\u001b[0;34m)\u001b[0m\u001b[0;34m:\u001b[0m\u001b[0;34m\u001b[0m\u001b[0m\n\u001b[0;32m--> 586\u001b[0;31m             \u001b[0msource\u001b[0m \u001b[0;34m=\u001b[0m \u001b[0mopen\u001b[0m\u001b[0;34m(\u001b[0m\u001b[0msource\u001b[0m\u001b[0;34m,\u001b[0m \u001b[0;34m\"rb\"\u001b[0m\u001b[0;34m)\u001b[0m\u001b[0;34m\u001b[0m\u001b[0m\n\u001b[0m\u001b[1;32m    587\u001b[0m             \u001b[0mclose_source\u001b[0m \u001b[0;34m=\u001b[0m \u001b[0;32mTrue\u001b[0m\u001b[0;34m\u001b[0m\u001b[0m\n\u001b[1;32m    588\u001b[0m         \u001b[0;32mtry\u001b[0m\u001b[0;34m:\u001b[0m\u001b[0;34m\u001b[0m\u001b[0m\n",
      "\u001b[0;31mFileNotFoundError\u001b[0m: [Errno 2] No such file or directory: '/home/gustavo/Developer/interscsimulator/mock-simulators/smart_city_model/peak_dr-algo_0_0/events.xml'"
     ]
    }
   ],
   "source": [
    "dfs = []\n",
    "scenarios = [\n",
    "    'peak_cet_0_0', \n",
    "#     'peak_dr-manual_0_0', \n",
    "#     'peak_dr-manual_1_0', \n",
    "#     'peak_dr-manual_1_18', \n",
    "    'peak_dr-algo_0_0',\n",
    "#     'peak_dr-algo_1_0',\n",
    "#     'peak_dr-algo_1_25',\n",
    "#     'peak_dr-algo_1_50',\n",
    "#     'peak_dr-algo_1_75',\n",
    "#     'peak_dr-algo_1_100',\n",
    "]\n",
    "\n",
    "for s in scenarios:\n",
    "    dr = parse_arrivals(dr_events_filename_template.format(s))\n",
    "    dr['avg_speed_km/h'] = 3.6 * dr['distance_m'] / dr['trip_time_s']\n",
    "    dr = dr.drop(columns='distance_m')\n",
    "    dfs.append(dr)\n",
    "    \n",
    "df = pd.concat(dfs, axis=1, keys=scenarios)\n",
    "df.describe()"
   ]
  },
  {
   "cell_type": "code",
   "execution_count": 57,
   "metadata": {},
   "outputs": [
    {
     "data": {
      "text/plain": [
       "<matplotlib.axes._subplots.AxesSubplot at 0x7f504bcfec88>"
      ]
     },
     "execution_count": 57,
     "metadata": {},
     "output_type": "execute_result"
    },
    {
     "data": {
      "image/png": "[encoded data removed]",
      "text/plain": [
       "<Figure size 432x288 with 1 Axes>"
      ]
     },
     "metadata": {},
     "output_type": "display_data"
    }
   ],
   "source": [
    "df.xs('trip_time_s', axis=1, level=1).mean().plot(kind='bar', title='Trip time (s) / p (%)')"
   ]
  },
  {
   "cell_type": "code",
   "execution_count": 58,
   "metadata": {},
   "outputs": [
    {
     "data": {
      "text/plain": [
       "<matplotlib.axes._subplots.AxesSubplot at 0x7f504e4175f8>"
      ]
     },
     "execution_count": 58,
     "metadata": {},
     "output_type": "execute_result"
    },
    {
     "data": {
      "image/png": "[encoded data removed]",
      "text/plain": [
       "<Figure size 432x288 with 1 Axes>"
      ]
     },
     "metadata": {},
     "output_type": "display_data"
    }
   ],
   "source": [
    "df.xs('avg_speed_km/h', axis=1, level=1).mean().plot(kind='bar', title='Avg speed (km/h) / p (%)')"
   ]
  },
  {
   "cell_type": "code",
   "execution_count": 59,
   "metadata": {},
   "outputs": [],
   "source": [
    "# df.xs('trip_time_s', axis=1, level=1).hist()\n",
    "# plt.suptitle('Trip time distributions / p')"
   ]
  },
  {
   "cell_type": "code",
   "execution_count": 60,
   "metadata": {},
   "outputs": [],
   "source": [
    "# df.xs('avg_speed_km/h', axis=1, level=1).hist()\n",
    "# plt.suptitle('Trip time distributions / p')"
   ]
  },
  {
   "cell_type": "code",
   "execution_count": 61,
   "metadata": {
    "scrolled": true
   },
   "outputs": [
    {
     "data": {
      "text/html": [
       "<div>\n",
       "<style scoped>\n",
       "    .dataframe tbody tr th:only-of-type {\n",
       "        vertical-align: middle;\n",
       "    }\n",
       "\n",
       "    .dataframe tbody tr th {\n",
       "        vertical-align: top;\n",
       "    }\n",
       "\n",
       "    .dataframe thead tr th {\n",
       "        text-align: left;\n",
       "    }\n",
       "</style>\n",
       "<table border=\"1\" class=\"dataframe\">\n",
       "  <thead>\n",
       "    <tr>\n",
       "      <th></th>\n",
       "      <th colspan=\"2\" halign=\"left\">peak_cet_0_0</th>\n",
       "      <th colspan=\"2\" halign=\"left\">peak_dr-algo_0_0</th>\n",
       "      <th colspan=\"2\" halign=\"left\">peak_dr-algo_1_0</th>\n",
       "      <th colspan=\"2\" halign=\"left\">peak_dr-algo_1_25</th>\n",
       "      <th colspan=\"2\" halign=\"left\">peak_dr-algo_1_50</th>\n",
       "      <th colspan=\"2\" halign=\"left\">peak_dr-algo_1_75</th>\n",
       "    </tr>\n",
       "    <tr>\n",
       "      <th></th>\n",
       "      <th>trip_time_s</th>\n",
       "      <th>avg_speed_km/h</th>\n",
       "      <th>trip_time_s</th>\n",
       "      <th>avg_speed_km/h</th>\n",
       "      <th>trip_time_s</th>\n",
       "      <th>avg_speed_km/h</th>\n",
       "      <th>trip_time_s</th>\n",
       "      <th>avg_speed_km/h</th>\n",
       "      <th>trip_time_s</th>\n",
       "      <th>avg_speed_km/h</th>\n",
       "      <th>trip_time_s</th>\n",
       "      <th>avg_speed_km/h</th>\n",
       "    </tr>\n",
       "  </thead>\n",
       "  <tbody>\n",
       "    <tr>\n",
       "      <th>count</th>\n",
       "      <td>5426.000000</td>\n",
       "      <td>5426.000000</td>\n",
       "      <td>5426.000000</td>\n",
       "      <td>5426.000000</td>\n",
       "      <td>5426.000000</td>\n",
       "      <td>5426.000000</td>\n",
       "      <td>4069.000000</td>\n",
       "      <td>4069.000000</td>\n",
       "      <td>2712.000000</td>\n",
       "      <td>2712.000000</td>\n",
       "      <td>1355.000000</td>\n",
       "      <td>1355.000000</td>\n",
       "    </tr>\n",
       "    <tr>\n",
       "      <th>mean</th>\n",
       "      <td>526.508109</td>\n",
       "      <td>19.021897</td>\n",
       "      <td>472.813859</td>\n",
       "      <td>21.587371</td>\n",
       "      <td>972.964799</td>\n",
       "      <td>11.797093</td>\n",
       "      <td>660.475793</td>\n",
       "      <td>16.153602</td>\n",
       "      <td>350.016962</td>\n",
       "      <td>28.357546</td>\n",
       "      <td>280.894465</td>\n",
       "      <td>35.134014</td>\n",
       "    </tr>\n",
       "    <tr>\n",
       "      <th>std</th>\n",
       "      <td>85.880466</td>\n",
       "      <td>2.833300</td>\n",
       "      <td>89.147818</td>\n",
       "      <td>4.930616</td>\n",
       "      <td>372.033669</td>\n",
       "      <td>5.044643</td>\n",
       "      <td>176.095397</td>\n",
       "      <td>5.277879</td>\n",
       "      <td>41.968798</td>\n",
       "      <td>3.646574</td>\n",
       "      <td>26.141105</td>\n",
       "      <td>3.602776</td>\n",
       "    </tr>\n",
       "    <tr>\n",
       "      <th>min</th>\n",
       "      <td>325.000000</td>\n",
       "      <td>13.560000</td>\n",
       "      <td>249.000000</td>\n",
       "      <td>12.626365</td>\n",
       "      <td>254.000000</td>\n",
       "      <td>5.336185</td>\n",
       "      <td>249.000000</td>\n",
       "      <td>9.388515</td>\n",
       "      <td>240.000000</td>\n",
       "      <td>19.351837</td>\n",
       "      <td>213.000000</td>\n",
       "      <td>26.194475</td>\n",
       "    </tr>\n",
       "    <tr>\n",
       "      <th>25%</th>\n",
       "      <td>459.000000</td>\n",
       "      <td>16.872598</td>\n",
       "      <td>409.000000</td>\n",
       "      <td>17.933629</td>\n",
       "      <td>681.000000</td>\n",
       "      <td>7.817312</td>\n",
       "      <td>532.000000</td>\n",
       "      <td>11.221775</td>\n",
       "      <td>319.000000</td>\n",
       "      <td>25.628108</td>\n",
       "      <td>264.000000</td>\n",
       "      <td>32.811073</td>\n",
       "    </tr>\n",
       "    <tr>\n",
       "      <th>50%</th>\n",
       "      <td>530.000000</td>\n",
       "      <td>18.524590</td>\n",
       "      <td>480.000000</td>\n",
       "      <td>20.218337</td>\n",
       "      <td>795.000000</td>\n",
       "      <td>12.509225</td>\n",
       "      <td>621.000000</td>\n",
       "      <td>15.963636</td>\n",
       "      <td>350.000000</td>\n",
       "      <td>27.807625</td>\n",
       "      <td>283.000000</td>\n",
       "      <td>34.709898</td>\n",
       "    </tr>\n",
       "    <tr>\n",
       "      <th>75%</th>\n",
       "      <td>597.750000</td>\n",
       "      <td>20.749234</td>\n",
       "      <td>529.000000</td>\n",
       "      <td>24.744526</td>\n",
       "      <td>1213.000000</td>\n",
       "      <td>14.890190</td>\n",
       "      <td>845.000000</td>\n",
       "      <td>18.868275</td>\n",
       "      <td>377.250000</td>\n",
       "      <td>30.787013</td>\n",
       "      <td>296.000000</td>\n",
       "      <td>37.116788</td>\n",
       "    </tr>\n",
       "    <tr>\n",
       "      <th>max</th>\n",
       "      <td>750.000000</td>\n",
       "      <td>29.824047</td>\n",
       "      <td>751.000000</td>\n",
       "      <td>40.843373</td>\n",
       "      <td>1777.000000</td>\n",
       "      <td>37.806691</td>\n",
       "      <td>1010.000000</td>\n",
       "      <td>40.843373</td>\n",
       "      <td>490.000000</td>\n",
       "      <td>40.517928</td>\n",
       "      <td>365.000000</td>\n",
       "      <td>45.000000</td>\n",
       "    </tr>\n",
       "  </tbody>\n",
       "</table>\n",
       "</div>"
      ],
      "text/plain": [
       "      peak_cet_0_0                peak_dr-algo_0_0                 \\\n",
       "       trip_time_s avg_speed_km/h      trip_time_s avg_speed_km/h   \n",
       "count  5426.000000    5426.000000      5426.000000    5426.000000   \n",
       "mean    526.508109      19.021897       472.813859      21.587371   \n",
       "std      85.880466       2.833300        89.147818       4.930616   \n",
       "min     325.000000      13.560000       249.000000      12.626365   \n",
       "25%     459.000000      16.872598       409.000000      17.933629   \n",
       "50%     530.000000      18.524590       480.000000      20.218337   \n",
       "75%     597.750000      20.749234       529.000000      24.744526   \n",
       "max     750.000000      29.824047       751.000000      40.843373   \n",
       "\n",
       "      peak_dr-algo_1_0                peak_dr-algo_1_25                 \\\n",
       "           trip_time_s avg_speed_km/h       trip_time_s avg_speed_km/h   \n",
       "count      5426.000000    5426.000000       4069.000000    4069.000000   \n",
       "mean        972.964799      11.797093        660.475793      16.153602   \n",
       "std         372.033669       5.044643        176.095397       5.277879   \n",
       "min         254.000000       5.336185        249.000000       9.388515   \n",
       "25%         681.000000       7.817312        532.000000      11.221775   \n",
       "50%         795.000000      12.509225        621.000000      15.963636   \n",
       "75%        1213.000000      14.890190        845.000000      18.868275   \n",
       "max        1777.000000      37.806691       1010.000000      40.843373   \n",
       "\n",
       "      peak_dr-algo_1_50                peak_dr-algo_1_75                 \n",
       "            trip_time_s avg_speed_km/h       trip_time_s avg_speed_km/h  \n",
       "count       2712.000000    2712.000000       1355.000000    1355.000000  \n",
       "mean         350.016962      28.357546        280.894465      35.134014  \n",
       "std           41.968798       3.646574         26.141105       3.602776  \n",
       "min          240.000000      19.351837        213.000000      26.194475  \n",
       "25%          319.000000      25.628108        264.000000      32.811073  \n",
       "50%          350.000000      27.807625        283.000000      34.709898  \n",
       "75%          377.250000      30.787013        296.000000      37.116788  \n",
       "max          490.000000      40.517928        365.000000      45.000000  "
      ]
     },
     "execution_count": 61,
     "metadata": {},
     "output_type": "execute_result"
    }
   ],
   "source": [
    "dfs = []\n",
    "scenarios = [\n",
    "    'peak_cet_0_0', \n",
    "#     'peak_dr-manual_0_0', \n",
    "#     'peak_dr-manual_1_0', \n",
    "#     'peak_dr-manual_1_18', \n",
    "    'peak_dr-algo_0_0',\n",
    "    'peak_dr-algo_1_0',\n",
    "    'peak_dr-algo_1_25',\n",
    "    'peak_dr-algo_1_50',\n",
    "    'peak_dr-algo_1_75',\n",
    "]\n",
    "\n",
    "for s in scenarios:\n",
    "    dr = parse_arrivals(dr_events_filename_template.format(s), 'regular')\n",
    "    dr['avg_speed_km/h'] = 3.6 * dr['distance_m'] / dr['trip_time_s']\n",
    "    dr = dr.drop(columns='distance_m')\n",
    "    dfs.append(dr)\n",
    "    \n",
    "df = pd.concat(dfs, axis=1, keys=scenarios)\n",
    "df.describe()"
   ]
  },
  {
   "cell_type": "code",
   "execution_count": 62,
   "metadata": {},
   "outputs": [
    {
     "data": {
      "text/plain": [
       "<matplotlib.axes._subplots.AxesSubplot at 0x7f504d56ab70>"
      ]
     },
     "execution_count": 62,
     "metadata": {},
     "output_type": "execute_result"
    },
    {
     "data": {
      "image/png": "[encoded data removed]",
      "text/plain": [
       "<Figure size 432x288 with 1 Axes>"
      ]
     },
     "metadata": {},
     "output_type": "display_data"
    }
   ],
   "source": [
    "df.xs('trip_time_s', axis=1, level=1).mean().plot(kind='bar', title='Trip time outside convoy (s) / p (%)')"
   ]
  },
  {
   "cell_type": "code",
   "execution_count": 63,
   "metadata": {},
   "outputs": [
    {
     "data": {
      "text/plain": [
       "<matplotlib.axes._subplots.AxesSubplot at 0x7f504e417dd8>"
      ]
     },
     "execution_count": 63,
     "metadata": {},
     "output_type": "execute_result"
    },
    {
     "data": {
      "image/png": "[encoded data removed]",
      "text/plain": [
       "<Figure size 432x288 with 1 Axes>"
      ]
     },
     "metadata": {},
     "output_type": "display_data"
    }
   ],
   "source": [
    "df.xs('avg_speed_km/h', axis=1, level=1).mean().plot(kind='bar', title='Avg speed outside convoy (km/h) / p (%)')"
   ]
  },
  {
   "cell_type": "code",
   "execution_count": 64,
   "metadata": {},
   "outputs": [],
   "source": [
    "# df.xs('trip_time_s', axis=1, level=1).hist()\n",
    "# plt.suptitle('Trip time distributions outside convoy / p')"
   ]
  },
  {
   "cell_type": "code",
   "execution_count": 65,
   "metadata": {},
   "outputs": [],
   "source": [
    "# df.xs('avg_speed_km/h', axis=1, level=1).hist()\n",
    "# plt.suptitle('Avg speed distributions outside convoy / p')"
   ]
  },
  {
   "cell_type": "code",
   "execution_count": null,
   "metadata": {},
   "outputs": [],
   "source": []
  },
  {
   "cell_type": "code",
   "execution_count": null,
   "metadata": {},
   "outputs": [],
   "source": []
  }
 ],
 "metadata": {
  "kernelspec": {
   "display_name": "Python 3",
   "language": "python",
   "name": "python3"
  },
  "language_info": {
   "codemirror_mode": {
    "name": "ipython",
    "version": 3
   },
   "file_extension": ".py",
   "mimetype": "text/x-python",
   "name": "python",
   "nbconvert_exporter": "python",
   "pygments_lexer": "ipython3",
   "version": "3.6.5"
  }
 },
 "nbformat": 4,
 "nbformat_minor": 2
}
