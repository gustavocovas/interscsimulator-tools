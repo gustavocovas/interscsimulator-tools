{
 "cells": [
  {
   "cell_type": "code",
   "execution_count": 1,
   "metadata": {},
   "outputs": [],
   "source": [
    "%matplotlib inline\n",
    "\n",
    "import pandas as pd\n",
    "import numpy as np\n",
    "import xml.etree.ElementTree as ET\n",
    "import matplotlib.pyplot as plt\n",
    "import os.path"
   ]
  },
  {
   "cell_type": "markdown",
   "metadata": {},
   "source": [
    "O Cenário anterior tinha o problema dos comboios muito compridos. Limitei o fluxo a 1980 veículos/hora em cada sentido. Comboios de no máximo 22 carros por faixa."
   ]
  },
  {
   "cell_type": "code",
   "execution_count": 2,
   "metadata": {},
   "outputs": [],
   "source": [
    "scenarios_folder = os.path.expanduser('~/Developer/interscsimulator/mock-simulators/smart_city_model/')\n",
    "dr_events_filename_template = scenarios_folder + '{}/events.xml'"
   ]
  },
  {
   "cell_type": "code",
   "execution_count": 3,
   "metadata": {},
   "outputs": [],
   "source": [
    "def parse_arrivals(filename, prefix=''):\n",
    "    tree = ET.parse(filename)\n",
    "    root = tree.getroot()\n",
    "\n",
    "    events = []\n",
    "    for child in root:        \n",
    "        if child.attrib['type'] == 'arrival' and (len(prefix) == 0 or (prefix in child.attrib['person'])):\n",
    "            # Sample arrival event:\n",
    "            # <event time=\"918\" type=\"arrival\" person=\"paraiso5_79\" vehicle=\"paraiso5_79\" \n",
    "            #     link=\"40\" legMode=\"car\" trip_time=\"205\" distance=\"2825\" action=\"ok\"/>\n",
    "\n",
    "            trip_time = int(child.attrib['trip_time'])\n",
    "            distance = int(child.attrib['distance'])\n",
    "\n",
    "            events.append({'trip_time_s': trip_time, 'distance_m': distance})\n",
    "\n",
    "    return pd.DataFrame(events)"
   ]
  },
  {
   "cell_type": "code",
   "execution_count": 5,
   "metadata": {},
   "outputs": [
    {
     "data": {
      "text/html": [
       "<div>\n",
       "<style scoped>\n",
       "    .dataframe tbody tr th:only-of-type {\n",
       "        vertical-align: middle;\n",
       "    }\n",
       "\n",
       "    .dataframe tbody tr th {\n",
       "        vertical-align: top;\n",
       "    }\n",
       "\n",
       "    .dataframe thead tr th {\n",
       "        text-align: left;\n",
       "    }\n",
       "</style>\n",
       "<table border=\"1\" class=\"dataframe\">\n",
       "  <thead>\n",
       "    <tr>\n",
       "      <th></th>\n",
       "      <th colspan=\"2\" halign=\"left\">peak_cet_0_0</th>\n",
       "      <th colspan=\"2\" halign=\"left\">peak_dr-manual_0_0</th>\n",
       "      <th colspan=\"2\" halign=\"left\">peak_dr-manual_1_0</th>\n",
       "      <th colspan=\"2\" halign=\"left\">peak_dr-manual_1_18</th>\n",
       "    </tr>\n",
       "    <tr>\n",
       "      <th></th>\n",
       "      <th>trip_time_s</th>\n",
       "      <th>avg_speed_km/h</th>\n",
       "      <th>trip_time_s</th>\n",
       "      <th>avg_speed_km/h</th>\n",
       "      <th>trip_time_s</th>\n",
       "      <th>avg_speed_km/h</th>\n",
       "      <th>trip_time_s</th>\n",
       "      <th>avg_speed_km/h</th>\n",
       "    </tr>\n",
       "  </thead>\n",
       "  <tbody>\n",
       "    <tr>\n",
       "      <th>count</th>\n",
       "      <td>5426.000000</td>\n",
       "      <td>5426.000000</td>\n",
       "      <td>5426.000000</td>\n",
       "      <td>5426.000000</td>\n",
       "      <td>5426.000000</td>\n",
       "      <td>5426.000000</td>\n",
       "      <td>5408.000000</td>\n",
       "      <td>5408.000000</td>\n",
       "    </tr>\n",
       "    <tr>\n",
       "      <th>mean</th>\n",
       "      <td>526.508109</td>\n",
       "      <td>19.021897</td>\n",
       "      <td>595.561555</td>\n",
       "      <td>16.751579</td>\n",
       "      <td>1146.900663</td>\n",
       "      <td>10.252206</td>\n",
       "      <td>728.355954</td>\n",
       "      <td>19.366574</td>\n",
       "    </tr>\n",
       "    <tr>\n",
       "      <th>std</th>\n",
       "      <td>85.880466</td>\n",
       "      <td>2.833300</td>\n",
       "      <td>82.210619</td>\n",
       "      <td>2.531853</td>\n",
       "      <td>500.628511</td>\n",
       "      <td>4.362541</td>\n",
       "      <td>341.369872</td>\n",
       "      <td>14.565600</td>\n",
       "    </tr>\n",
       "    <tr>\n",
       "      <th>min</th>\n",
       "      <td>325.000000</td>\n",
       "      <td>13.560000</td>\n",
       "      <td>297.000000</td>\n",
       "      <td>10.812315</td>\n",
       "      <td>297.000000</td>\n",
       "      <td>3.839028</td>\n",
       "      <td>191.000000</td>\n",
       "      <td>6.886275</td>\n",
       "    </tr>\n",
       "    <tr>\n",
       "      <th>25%</th>\n",
       "      <td>459.000000</td>\n",
       "      <td>16.872598</td>\n",
       "      <td>540.000000</td>\n",
       "      <td>15.362538</td>\n",
       "      <td>781.250000</td>\n",
       "      <td>6.150414</td>\n",
       "      <td>567.000000</td>\n",
       "      <td>9.039466</td>\n",
       "    </tr>\n",
       "    <tr>\n",
       "      <th>50%</th>\n",
       "      <td>530.000000</td>\n",
       "      <td>18.524590</td>\n",
       "      <td>592.000000</td>\n",
       "      <td>16.462500</td>\n",
       "      <td>858.000000</td>\n",
       "      <td>11.641993</td>\n",
       "      <td>678.000000</td>\n",
       "      <td>14.890190</td>\n",
       "    </tr>\n",
       "    <tr>\n",
       "      <th>75%</th>\n",
       "      <td>597.750000</td>\n",
       "      <td>20.749234</td>\n",
       "      <td>654.750000</td>\n",
       "      <td>17.824060</td>\n",
       "      <td>1541.750000</td>\n",
       "      <td>12.971939</td>\n",
       "      <td>1049.000000</td>\n",
       "      <td>17.297851</td>\n",
       "    </tr>\n",
       "    <tr>\n",
       "      <th>max</th>\n",
       "      <td>750.000000</td>\n",
       "      <td>29.824047</td>\n",
       "      <td>877.000000</td>\n",
       "      <td>32.700965</td>\n",
       "      <td>2470.000000</td>\n",
       "      <td>32.700965</td>\n",
       "      <td>1377.000000</td>\n",
       "      <td>49.646073</td>\n",
       "    </tr>\n",
       "  </tbody>\n",
       "</table>\n",
       "</div>"
      ],
      "text/plain": [
       "      peak_cet_0_0                peak_dr-manual_0_0                 \\\n",
       "       trip_time_s avg_speed_km/h        trip_time_s avg_speed_km/h   \n",
       "count  5426.000000    5426.000000        5426.000000    5426.000000   \n",
       "mean    526.508109      19.021897         595.561555      16.751579   \n",
       "std      85.880466       2.833300          82.210619       2.531853   \n",
       "min     325.000000      13.560000         297.000000      10.812315   \n",
       "25%     459.000000      16.872598         540.000000      15.362538   \n",
       "50%     530.000000      18.524590         592.000000      16.462500   \n",
       "75%     597.750000      20.749234         654.750000      17.824060   \n",
       "max     750.000000      29.824047         877.000000      32.700965   \n",
       "\n",
       "      peak_dr-manual_1_0                peak_dr-manual_1_18                 \n",
       "             trip_time_s avg_speed_km/h         trip_time_s avg_speed_km/h  \n",
       "count        5426.000000    5426.000000         5408.000000    5408.000000  \n",
       "mean         1146.900663      10.252206          728.355954      19.366574  \n",
       "std           500.628511       4.362541          341.369872      14.565600  \n",
       "min           297.000000       3.839028          191.000000       6.886275  \n",
       "25%           781.250000       6.150414          567.000000       9.039466  \n",
       "50%           858.000000      11.641993          678.000000      14.890190  \n",
       "75%          1541.750000      12.971939         1049.000000      17.297851  \n",
       "max          2470.000000      32.700965         1377.000000      49.646073  "
      ]
     },
     "execution_count": 5,
     "metadata": {},
     "output_type": "execute_result"
    }
   ],
   "source": [
    "dfs = []\n",
    "scenarios = [\n",
    "    'peak_cet_0_0', \n",
    "    'peak_dr-manual_0_0', \n",
    "    'peak_dr-manual_1_0', \n",
    "    'peak_dr-manual_1_18', \n",
    "]\n",
    "\n",
    "for s in scenarios:\n",
    "    dr = parse_arrivals(dr_events_filename_template.format(s))\n",
    "    dr['avg_speed_km/h'] = 3.6 * dr['distance_m'] / dr['trip_time_s']\n",
    "    dr = dr.drop(columns='distance_m')\n",
    "    dfs.append(dr)\n",
    "    \n",
    "df = pd.concat(dfs, axis=1, keys=scenarios)\n",
    "df.describe()"
   ]
  },
  {
   "cell_type": "code",
   "execution_count": 6,
   "metadata": {},
   "outputs": [
    {
     "data": {
      "text/plain": [
       "<matplotlib.axes._subplots.AxesSubplot at 0x7f1fa476df60>"
      ]
     },
     "execution_count": 6,
     "metadata": {},
     "output_type": "execute_result"
    },
    {
     "data": {
      "image/png": "[encoded data removed]",
      "text/plain": [
       "<Figure size 432x288 with 1 Axes>"
      ]
     },
     "metadata": {},
     "output_type": "display_data"
    }
   ],
   "source": [
    "df.xs('trip_time_s', axis=1, level=1).mean().plot(kind='bar', title='Trip time (s) / p (%)')"
   ]
  },
  {
   "cell_type": "code",
   "execution_count": 7,
   "metadata": {},
   "outputs": [
    {
     "data": {
      "text/plain": [
       "<matplotlib.axes._subplots.AxesSubplot at 0x7f1fa31f2d30>"
      ]
     },
     "execution_count": 7,
     "metadata": {},
     "output_type": "execute_result"
    },
    {
     "data": {
      "image/png": "[encoded data removed]",
      "text/plain": [
       "<Figure size 432x288 with 1 Axes>"
      ]
     },
     "metadata": {},
     "output_type": "display_data"
    }
   ],
   "source": [
    "df.xs('avg_speed_km/h', axis=1, level=1).mean().plot(kind='bar', title='Avg speed (km/h) / p (%)')"
   ]
  },
  {
   "cell_type": "code",
   "execution_count": 8,
   "metadata": {},
   "outputs": [
    {
     "data": {
      "text/plain": [
       "Text(0.5,0.98,'Trip time distributions / p')"
      ]
     },
     "execution_count": 8,
     "metadata": {},
     "output_type": "execute_result"
    },
    {
     "data": {
      "image/png": "[encoded data removed]",
      "text/plain": [
       "<Figure size 432x288 with 4 Axes>"
      ]
     },
     "metadata": {},
     "output_type": "display_data"
    }
   ],
   "source": [
    "df.xs('trip_time_s', axis=1, level=1).hist()\n",
    "plt.suptitle('Trip time distributions / p')"
   ]
  },
  {
   "cell_type": "code",
   "execution_count": 9,
   "metadata": {},
   "outputs": [
    {
     "data": {
      "text/plain": [
       "Text(0.5,0.98,'Trip time distributions / p')"
      ]
     },
     "execution_count": 9,
     "metadata": {},
     "output_type": "execute_result"
    },
    {
     "data": {
      "image/png": "[encoded data removed]",
      "text/plain": [
       "<Figure size 432x288 with 4 Axes>"
      ]
     },
     "metadata": {},
     "output_type": "display_data"
    }
   ],
   "source": [
    "df.xs('avg_speed_km/h', axis=1, level=1).hist()\n",
    "plt.suptitle('Trip time distributions / p')"
   ]
  },
  {
   "cell_type": "code",
   "execution_count": 10,
   "metadata": {
    "scrolled": true
   },
   "outputs": [
    {
     "data": {
      "text/html": [
       "<div>\n",
       "<style scoped>\n",
       "    .dataframe tbody tr th:only-of-type {\n",
       "        vertical-align: middle;\n",
       "    }\n",
       "\n",
       "    .dataframe tbody tr th {\n",
       "        vertical-align: top;\n",
       "    }\n",
       "\n",
       "    .dataframe thead tr th {\n",
       "        text-align: left;\n",
       "    }\n",
       "</style>\n",
       "<table border=\"1\" class=\"dataframe\">\n",
       "  <thead>\n",
       "    <tr>\n",
       "      <th></th>\n",
       "      <th colspan=\"2\" halign=\"left\">peak_cet_0_0</th>\n",
       "      <th colspan=\"2\" halign=\"left\">peak_dr-manual_0_0</th>\n",
       "      <th colspan=\"2\" halign=\"left\">peak_dr-manual_1_0</th>\n",
       "      <th colspan=\"2\" halign=\"left\">peak_dr-manual_1_18</th>\n",
       "    </tr>\n",
       "    <tr>\n",
       "      <th></th>\n",
       "      <th>trip_time_s</th>\n",
       "      <th>avg_speed_km/h</th>\n",
       "      <th>trip_time_s</th>\n",
       "      <th>avg_speed_km/h</th>\n",
       "      <th>trip_time_s</th>\n",
       "      <th>avg_speed_km/h</th>\n",
       "      <th>trip_time_s</th>\n",
       "      <th>avg_speed_km/h</th>\n",
       "    </tr>\n",
       "  </thead>\n",
       "  <tbody>\n",
       "    <tr>\n",
       "      <th>count</th>\n",
       "      <td>5426.000000</td>\n",
       "      <td>5426.000000</td>\n",
       "      <td>5426.000000</td>\n",
       "      <td>5426.000000</td>\n",
       "      <td>5426.000000</td>\n",
       "      <td>5426.000000</td>\n",
       "      <td>4448.000000</td>\n",
       "      <td>4448.000000</td>\n",
       "    </tr>\n",
       "    <tr>\n",
       "      <th>mean</th>\n",
       "      <td>526.508109</td>\n",
       "      <td>19.021897</td>\n",
       "      <td>595.561555</td>\n",
       "      <td>16.751579</td>\n",
       "      <td>1146.900663</td>\n",
       "      <td>10.252206</td>\n",
       "      <td>843.010117</td>\n",
       "      <td>12.834859</td>\n",
       "    </tr>\n",
       "    <tr>\n",
       "      <th>std</th>\n",
       "      <td>85.880466</td>\n",
       "      <td>2.833300</td>\n",
       "      <td>82.210619</td>\n",
       "      <td>2.531853</td>\n",
       "      <td>500.628511</td>\n",
       "      <td>4.362541</td>\n",
       "      <td>260.018564</td>\n",
       "      <td>4.191127</td>\n",
       "    </tr>\n",
       "    <tr>\n",
       "      <th>min</th>\n",
       "      <td>325.000000</td>\n",
       "      <td>13.560000</td>\n",
       "      <td>297.000000</td>\n",
       "      <td>10.812315</td>\n",
       "      <td>297.000000</td>\n",
       "      <td>3.839028</td>\n",
       "      <td>301.000000</td>\n",
       "      <td>6.886275</td>\n",
       "    </tr>\n",
       "    <tr>\n",
       "      <th>25%</th>\n",
       "      <td>459.000000</td>\n",
       "      <td>16.872598</td>\n",
       "      <td>540.000000</td>\n",
       "      <td>15.362538</td>\n",
       "      <td>781.250000</td>\n",
       "      <td>6.150414</td>\n",
       "      <td>652.000000</td>\n",
       "      <td>8.281572</td>\n",
       "    </tr>\n",
       "    <tr>\n",
       "      <th>50%</th>\n",
       "      <td>530.000000</td>\n",
       "      <td>18.524590</td>\n",
       "      <td>592.000000</td>\n",
       "      <td>16.462500</td>\n",
       "      <td>858.000000</td>\n",
       "      <td>11.641993</td>\n",
       "      <td>709.000000</td>\n",
       "      <td>14.110714</td>\n",
       "    </tr>\n",
       "    <tr>\n",
       "      <th>75%</th>\n",
       "      <td>597.750000</td>\n",
       "      <td>20.749234</td>\n",
       "      <td>654.750000</td>\n",
       "      <td>17.824060</td>\n",
       "      <td>1541.750000</td>\n",
       "      <td>12.971939</td>\n",
       "      <td>1145.000000</td>\n",
       "      <td>15.503049</td>\n",
       "    </tr>\n",
       "    <tr>\n",
       "      <th>max</th>\n",
       "      <td>750.000000</td>\n",
       "      <td>29.824047</td>\n",
       "      <td>877.000000</td>\n",
       "      <td>32.700965</td>\n",
       "      <td>2470.000000</td>\n",
       "      <td>32.700965</td>\n",
       "      <td>1377.000000</td>\n",
       "      <td>32.388535</td>\n",
       "    </tr>\n",
       "  </tbody>\n",
       "</table>\n",
       "</div>"
      ],
      "text/plain": [
       "      peak_cet_0_0                peak_dr-manual_0_0                 \\\n",
       "       trip_time_s avg_speed_km/h        trip_time_s avg_speed_km/h   \n",
       "count  5426.000000    5426.000000        5426.000000    5426.000000   \n",
       "mean    526.508109      19.021897         595.561555      16.751579   \n",
       "std      85.880466       2.833300          82.210619       2.531853   \n",
       "min     325.000000      13.560000         297.000000      10.812315   \n",
       "25%     459.000000      16.872598         540.000000      15.362538   \n",
       "50%     530.000000      18.524590         592.000000      16.462500   \n",
       "75%     597.750000      20.749234         654.750000      17.824060   \n",
       "max     750.000000      29.824047         877.000000      32.700965   \n",
       "\n",
       "      peak_dr-manual_1_0                peak_dr-manual_1_18                 \n",
       "             trip_time_s avg_speed_km/h         trip_time_s avg_speed_km/h  \n",
       "count        5426.000000    5426.000000         4448.000000    4448.000000  \n",
       "mean         1146.900663      10.252206          843.010117      12.834859  \n",
       "std           500.628511       4.362541          260.018564       4.191127  \n",
       "min           297.000000       3.839028          301.000000       6.886275  \n",
       "25%           781.250000       6.150414          652.000000       8.281572  \n",
       "50%           858.000000      11.641993          709.000000      14.110714  \n",
       "75%          1541.750000      12.971939         1145.000000      15.503049  \n",
       "max          2470.000000      32.700965         1377.000000      32.388535  "
      ]
     },
     "execution_count": 10,
     "metadata": {},
     "output_type": "execute_result"
    }
   ],
   "source": [
    "dfs = []\n",
    "scenarios = [\n",
    "    'peak_cet_0_0', \n",
    "    'peak_dr-manual_0_0', \n",
    "    'peak_dr-manual_1_0', \n",
    "    'peak_dr-manual_1_18', \n",
    "]\n",
    "\n",
    "for s in scenarios:\n",
    "    dr = parse_arrivals(dr_events_filename_template.format(s), 'regular')\n",
    "    dr['avg_speed_km/h'] = 3.6 * dr['distance_m'] / dr['trip_time_s']\n",
    "    dr = dr.drop(columns='distance_m')\n",
    "    dfs.append(dr)\n",
    "    \n",
    "df = pd.concat(dfs, axis=1, keys=scenarios)\n",
    "df.describe()"
   ]
  },
  {
   "cell_type": "code",
   "execution_count": 11,
   "metadata": {},
   "outputs": [
    {
     "data": {
      "text/plain": [
       "<matplotlib.axes._subplots.AxesSubplot at 0x7f1fa28faa90>"
      ]
     },
     "execution_count": 11,
     "metadata": {},
     "output_type": "execute_result"
    },
    {
     "data": {
      "image/png": "[encoded data removed]",
      "text/plain": [
       "<Figure size 432x288 with 1 Axes>"
      ]
     },
     "metadata": {},
     "output_type": "display_data"
    }
   ],
   "source": [
    "df.xs('trip_time_s', axis=1, level=1).mean().plot(kind='bar', title='Trip time outside convoy (s) / p (%)')"
   ]
  },
  {
   "cell_type": "code",
   "execution_count": 12,
   "metadata": {},
   "outputs": [
    {
     "data": {
      "text/plain": [
       "<matplotlib.axes._subplots.AxesSubplot at 0x7f1fa09534e0>"
      ]
     },
     "execution_count": 12,
     "metadata": {},
     "output_type": "execute_result"
    },
    {
     "data": {
      "image/png": "[encoded data removed]",
      "text/plain": [
       "<Figure size 432x288 with 1 Axes>"
      ]
     },
     "metadata": {},
     "output_type": "display_data"
    }
   ],
   "source": [
    "df.xs('avg_speed_km/h', axis=1, level=1).mean().plot(kind='bar', title='Avg speed outside convoy (km/h) / p (%)')"
   ]
  },
  {
   "cell_type": "code",
   "execution_count": 13,
   "metadata": {},
   "outputs": [
    {
     "data": {
      "text/plain": [
       "Text(0.5,0.98,'Trip time distributions outside convoy / p')"
      ]
     },
     "execution_count": 13,
     "metadata": {},
     "output_type": "execute_result"
    },
    {
     "data": {
      "image/png": "[encoded data removed]",
      "text/plain": [
       "<Figure size 432x288 with 4 Axes>"
      ]
     },
     "metadata": {},
     "output_type": "display_data"
    }
   ],
   "source": [
    "df.xs('trip_time_s', axis=1, level=1).hist()\n",
    "plt.suptitle('Trip time distributions outside convoy / p')"
   ]
  },
  {
   "cell_type": "code",
   "execution_count": 14,
   "metadata": {},
   "outputs": [
    {
     "data": {
      "text/plain": [
       "Text(0.5,0.98,'Avg speed distributions outside convoy / p')"
      ]
     },
     "execution_count": 14,
     "metadata": {},
     "output_type": "execute_result"
    },
    {
     "data": {
      "image/png": "[encoded data removed]",
      "text/plain": [
       "<Figure size 432x288 with 4 Axes>"
      ]
     },
     "metadata": {},
     "output_type": "display_data"
    }
   ],
   "source": [
    "df.xs('avg_speed_km/h', axis=1, level=1).hist()\n",
    "plt.suptitle('Avg speed distributions outside convoy / p')"
   ]
  },
  {
   "cell_type": "code",
   "execution_count": null,
   "metadata": {},
   "outputs": [],
   "source": []
  },
  {
   "cell_type": "code",
   "execution_count": null,
   "metadata": {},
   "outputs": [],
   "source": []
  }
 ],
 "metadata": {
  "kernelspec": {
   "display_name": "Python 3",
   "language": "python",
   "name": "python3"
  },
  "language_info": {
   "codemirror_mode": {
    "name": "ipython",
    "version": 3
   },
   "file_extension": ".py",
   "mimetype": "text/x-python",
   "name": "python",
   "nbconvert_exporter": "python",
   "pygments_lexer": "ipython3",
   "version": "3.6.5"
  }
 },
 "nbformat": 4,
 "nbformat_minor": 2
}
