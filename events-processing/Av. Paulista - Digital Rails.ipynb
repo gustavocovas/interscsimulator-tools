{
 "cells": [
  {
   "cell_type": "code",
   "execution_count": 1,
   "metadata": {},
   "outputs": [],
   "source": [
    "%matplotlib inline\n",
    "\n",
    "import pandas as pd\n",
    "import numpy as np\n",
    "import xml.etree.ElementTree as ET\n",
    "import matplotlib.pyplot as plt\n",
    "import os.path"
   ]
  },
  {
   "cell_type": "code",
   "execution_count": 2,
   "metadata": {},
   "outputs": [],
   "source": [
    "scenarios_folder = '~/Developer/interscsimulator/mock-simulators/smart_city_model/'\n",
    "digital_rails_events_filename = os.path.expanduser(scenarios_folder + 'av_paulista_digital_rails_scenario/av_paulista_digital_rails_scenario.events.xml')\n",
    "regular_events_filename = os.path.expanduser(scenarios_folder + 'av_paulista_regular_scenario/av_paulista_regular_scenario.events.xml')"
   ]
  },
  {
   "cell_type": "markdown",
   "metadata": {},
   "source": [
    "2100 cars per hour in each direction, during 3 hours"
   ]
  },
  {
   "cell_type": "code",
   "execution_count": 3,
   "metadata": {
    "collapsed": true
   },
   "outputs": [],
   "source": [
    "def parse_arrivals(filename):\n",
    "    tree = ET.parse(filename)\n",
    "    root = tree.getroot()\n",
    "\n",
    "    events = []\n",
    "    for child in root:\n",
    "        if child.attrib['type'] == 'arrival':\n",
    "            # Sample arrival event:\n",
    "            # <event time=\"918\" type=\"arrival\" person=\"paraiso5_79\" vehicle=\"paraiso5_79\" \n",
    "            #     link=\"40\" legMode=\"car\" trip_time=\"205\" distance=\"2825\" action=\"ok\"/>\n",
    "\n",
    "            trip_time = int(child.attrib['trip_time'])\n",
    "            distance = int(child.attrib['distance'])\n",
    "\n",
    "            events.append({'trip_time_s': trip_time, 'distance_m': distance})\n",
    "\n",
    "    return pd.DataFrame(events)"
   ]
  },
  {
   "cell_type": "code",
   "execution_count": 4,
   "metadata": {},
   "outputs": [],
   "source": [
    "re = parse_arrivals(regular_events_filename)\n",
    "dr = parse_arrivals(digital_rails_events_filename)"
   ]
  },
  {
   "cell_type": "markdown",
   "metadata": {},
   "source": [
    "# Trip times #\n",
    "\n",
    "## Regular Scenario ##"
   ]
  },
  {
   "cell_type": "code",
   "execution_count": 5,
   "metadata": {},
   "outputs": [
    {
     "data": {
      "text/html": [
       "<div>\n",
       "<style scoped>\n",
       "    .dataframe tbody tr th:only-of-type {\n",
       "        vertical-align: middle;\n",
       "    }\n",
       "\n",
       "    .dataframe tbody tr th {\n",
       "        vertical-align: top;\n",
       "    }\n",
       "\n",
       "    .dataframe thead th {\n",
       "        text-align: right;\n",
       "    }\n",
       "</style>\n",
       "<table border=\"1\" class=\"dataframe\">\n",
       "  <thead>\n",
       "    <tr style=\"text-align: right;\">\n",
       "      <th></th>\n",
       "      <th>distance_m</th>\n",
       "      <th>trip_time_s</th>\n",
       "      <th>avg_speed_m/s</th>\n",
       "      <th>avg_speed_km/h</th>\n",
       "    </tr>\n",
       "  </thead>\n",
       "  <tbody>\n",
       "    <tr>\n",
       "      <th>count</th>\n",
       "      <td>12600.00000</td>\n",
       "      <td>12600.000000</td>\n",
       "      <td>12600.000000</td>\n",
       "      <td>12600.000000</td>\n",
       "    </tr>\n",
       "    <tr>\n",
       "      <th>mean</th>\n",
       "      <td>2729.50000</td>\n",
       "      <td>358.138095</td>\n",
       "      <td>7.683250</td>\n",
       "      <td>27.659701</td>\n",
       "    </tr>\n",
       "    <tr>\n",
       "      <th>std</th>\n",
       "      <td>95.50379</td>\n",
       "      <td>33.987468</td>\n",
       "      <td>0.697153</td>\n",
       "      <td>2.509750</td>\n",
       "    </tr>\n",
       "    <tr>\n",
       "      <th>min</th>\n",
       "      <td>2634.00000</td>\n",
       "      <td>285.000000</td>\n",
       "      <td>6.069124</td>\n",
       "      <td>21.848848</td>\n",
       "    </tr>\n",
       "    <tr>\n",
       "      <th>25%</th>\n",
       "      <td>2634.00000</td>\n",
       "      <td>335.000000</td>\n",
       "      <td>7.118919</td>\n",
       "      <td>25.628108</td>\n",
       "    </tr>\n",
       "    <tr>\n",
       "      <th>50%</th>\n",
       "      <td>2729.50000</td>\n",
       "      <td>353.000000</td>\n",
       "      <td>7.769912</td>\n",
       "      <td>27.971681</td>\n",
       "    </tr>\n",
       "    <tr>\n",
       "      <th>75%</th>\n",
       "      <td>2825.00000</td>\n",
       "      <td>384.000000</td>\n",
       "      <td>8.188406</td>\n",
       "      <td>29.478261</td>\n",
       "    </tr>\n",
       "    <tr>\n",
       "      <th>max</th>\n",
       "      <td>2825.00000</td>\n",
       "      <td>437.000000</td>\n",
       "      <td>9.242105</td>\n",
       "      <td>33.271579</td>\n",
       "    </tr>\n",
       "  </tbody>\n",
       "</table>\n",
       "</div>"
      ],
      "text/plain": [
       "        distance_m   trip_time_s  avg_speed_m/s  avg_speed_km/h\n",
       "count  12600.00000  12600.000000   12600.000000    12600.000000\n",
       "mean    2729.50000    358.138095       7.683250       27.659701\n",
       "std       95.50379     33.987468       0.697153        2.509750\n",
       "min     2634.00000    285.000000       6.069124       21.848848\n",
       "25%     2634.00000    335.000000       7.118919       25.628108\n",
       "50%     2729.50000    353.000000       7.769912       27.971681\n",
       "75%     2825.00000    384.000000       8.188406       29.478261\n",
       "max     2825.00000    437.000000       9.242105       33.271579"
      ]
     },
     "execution_count": 5,
     "metadata": {},
     "output_type": "execute_result"
    }
   ],
   "source": [
    "re['avg_speed_m/s'] = re['distance_m'] / re['trip_time_s']\n",
    "re['avg_speed_km/h'] = re['avg_speed_m/s'] * 3.6\n",
    "\n",
    "re.describe()"
   ]
  },
  {
   "cell_type": "code",
   "execution_count": 6,
   "metadata": {
    "scrolled": true
   },
   "outputs": [
    {
     "data": {
      "text/plain": [
       "array([[<matplotlib.axes._subplots.AxesSubplot object at 0x133ff39b0>]], dtype=object)"
      ]
     },
     "execution_count": 6,
     "metadata": {},
     "output_type": "execute_result"
    },
    {
     "data": {
      "image/png": "[encoded data removed]",
      "text/plain": [
       "<matplotlib.figure.Figure at 0x12e3957f0>"
      ]
     },
     "metadata": {},
     "output_type": "display_data"
    }
   ],
   "source": [
    "(re[['trip_time_s']]).hist()"
   ]
  },
  {
   "cell_type": "markdown",
   "metadata": {},
   "source": [
    "## Digital Rails scenario ##"
   ]
  },
  {
   "cell_type": "code",
   "execution_count": 7,
   "metadata": {},
   "outputs": [
    {
     "data": {
      "text/html": [
       "<div>\n",
       "<style scoped>\n",
       "    .dataframe tbody tr th:only-of-type {\n",
       "        vertical-align: middle;\n",
       "    }\n",
       "\n",
       "    .dataframe tbody tr th {\n",
       "        vertical-align: top;\n",
       "    }\n",
       "\n",
       "    .dataframe thead th {\n",
       "        text-align: right;\n",
       "    }\n",
       "</style>\n",
       "<table border=\"1\" class=\"dataframe\">\n",
       "  <thead>\n",
       "    <tr style=\"text-align: right;\">\n",
       "      <th></th>\n",
       "      <th>distance_m</th>\n",
       "      <th>trip_time_s</th>\n",
       "      <th>avg_speed_m/s</th>\n",
       "      <th>avg_speed_km/h</th>\n",
       "    </tr>\n",
       "  </thead>\n",
       "  <tbody>\n",
       "    <tr>\n",
       "      <th>count</th>\n",
       "      <td>12600.00000</td>\n",
       "      <td>12600.000000</td>\n",
       "      <td>12600.000000</td>\n",
       "      <td>12600.000000</td>\n",
       "    </tr>\n",
       "    <tr>\n",
       "      <th>mean</th>\n",
       "      <td>2729.50000</td>\n",
       "      <td>198.000000</td>\n",
       "      <td>13.785532</td>\n",
       "      <td>49.627915</td>\n",
       "    </tr>\n",
       "    <tr>\n",
       "      <th>std</th>\n",
       "      <td>95.50379</td>\n",
       "      <td>7.000278</td>\n",
       "      <td>0.005044</td>\n",
       "      <td>0.018159</td>\n",
       "    </tr>\n",
       "    <tr>\n",
       "      <th>min</th>\n",
       "      <td>2634.00000</td>\n",
       "      <td>191.000000</td>\n",
       "      <td>13.780488</td>\n",
       "      <td>49.609756</td>\n",
       "    </tr>\n",
       "    <tr>\n",
       "      <th>25%</th>\n",
       "      <td>2634.00000</td>\n",
       "      <td>191.000000</td>\n",
       "      <td>13.780488</td>\n",
       "      <td>49.609756</td>\n",
       "    </tr>\n",
       "    <tr>\n",
       "      <th>50%</th>\n",
       "      <td>2729.50000</td>\n",
       "      <td>198.000000</td>\n",
       "      <td>13.785532</td>\n",
       "      <td>49.627915</td>\n",
       "    </tr>\n",
       "    <tr>\n",
       "      <th>75%</th>\n",
       "      <td>2825.00000</td>\n",
       "      <td>205.000000</td>\n",
       "      <td>13.790576</td>\n",
       "      <td>49.646073</td>\n",
       "    </tr>\n",
       "    <tr>\n",
       "      <th>max</th>\n",
       "      <td>2825.00000</td>\n",
       "      <td>205.000000</td>\n",
       "      <td>13.790576</td>\n",
       "      <td>49.646073</td>\n",
       "    </tr>\n",
       "  </tbody>\n",
       "</table>\n",
       "</div>"
      ],
      "text/plain": [
       "        distance_m   trip_time_s  avg_speed_m/s  avg_speed_km/h\n",
       "count  12600.00000  12600.000000   12600.000000    12600.000000\n",
       "mean    2729.50000    198.000000      13.785532       49.627915\n",
       "std       95.50379      7.000278       0.005044        0.018159\n",
       "min     2634.00000    191.000000      13.780488       49.609756\n",
       "25%     2634.00000    191.000000      13.780488       49.609756\n",
       "50%     2729.50000    198.000000      13.785532       49.627915\n",
       "75%     2825.00000    205.000000      13.790576       49.646073\n",
       "max     2825.00000    205.000000      13.790576       49.646073"
      ]
     },
     "execution_count": 7,
     "metadata": {},
     "output_type": "execute_result"
    }
   ],
   "source": [
    "dr['avg_speed_m/s'] = dr['distance_m'] / dr['trip_time_s']\n",
    "dr['avg_speed_km/h'] = dr['avg_speed_m/s'] * 3.6\n",
    "\n",
    "dr.describe()"
   ]
  },
  {
   "cell_type": "code",
   "execution_count": 8,
   "metadata": {},
   "outputs": [
    {
     "data": {
      "text/plain": [
       "array([[<matplotlib.axes._subplots.AxesSubplot object at 0x12e395ef0>]], dtype=object)"
      ]
     },
     "execution_count": 8,
     "metadata": {},
     "output_type": "execute_result"
    },
    {
     "data": {
      "image/png": "[encoded data removed]",
      "text/plain": [
       "<matplotlib.figure.Figure at 0x133ff07f0>"
      ]
     },
     "metadata": {},
     "output_type": "display_data"
    }
   ],
   "source": [
    "(dr[['trip_time_s']]).hist()"
   ]
  },
  {
   "cell_type": "code",
   "execution_count": 9,
   "metadata": {},
   "outputs": [
    {
     "data": {
      "text/plain": [
       "0.55285936523554369"
      ]
     },
     "execution_count": 9,
     "metadata": {},
     "output_type": "execute_result"
    }
   ],
   "source": [
    "dr['trip_time_s'].mean() / re['trip_time_s'].mean()"
   ]
  },
  {
   "cell_type": "markdown",
   "metadata": {},
   "source": [
    "## Vehicle throughput ##"
   ]
  },
  {
   "cell_type": "code",
   "execution_count": 10,
   "metadata": {
    "collapsed": true
   },
   "outputs": [],
   "source": [
    "def parse_left_link(filename, link_id):\n",
    "    tree = ET.parse(filename)\n",
    "    root = tree.getroot()\n",
    "\n",
    "    events = []\n",
    "\n",
    "\n",
    "    for child in root:\n",
    "        # Sample event:\n",
    "        # <event time=\"2897\" type=\"entered link\" person=\"2_11\" link=\"8\" vehicle=\"2_11\" action=\"ok\" />\n",
    "        \n",
    "        if child.attrib['type'] == 'left link' and child.attrib['link'] == link_id:\n",
    "            events.append({'left_link_time': int(child.attrib['time'])})\n",
    "\n",
    "    return pd.DataFrame(events)"
   ]
  },
  {
   "cell_type": "code",
   "execution_count": 11,
   "metadata": {
    "collapsed": true
   },
   "outputs": [],
   "source": [
    "re = pd.concat([\n",
    "    parse_left_link(regular_events_filename, '395'), # Sentido consolação\n",
    "    parse_left_link(regular_events_filename, '379')  # Sentido paraíso\n",
    "])"
   ]
  },
  {
   "cell_type": "code",
   "execution_count": 12,
   "metadata": {},
   "outputs": [
    {
     "data": {
      "text/plain": [
       "<matplotlib.axes._subplots.AxesSubplot at 0x1345c6cf8>"
      ]
     },
     "execution_count": 12,
     "metadata": {},
     "output_type": "execute_result"
    },
    {
     "data": {
      "image/png": "[encoded data removed]",
      "text/plain": [
       "<matplotlib.figure.Figure at 0x13235f4a8>"
      ]
     },
     "metadata": {},
     "output_type": "display_data"
    }
   ],
   "source": [
    "re['time_min'] = np.floor(re['left_link_time'] / (1 * 60))\n",
    "\n",
    "re.groupby('time_min').count().rename(columns={'left_link_time':'cars_per_minute'}).plot()"
   ]
  },
  {
   "cell_type": "code",
   "execution_count": 13,
   "metadata": {
    "collapsed": true
   },
   "outputs": [],
   "source": [
    "dr = pd.concat([\n",
    "    parse_left_link(digital_rails_events_filename, '395'), # Sentido consolação\n",
    "    parse_left_link(digital_rails_events_filename, '379')  # Sentido paraíso\n",
    "])"
   ]
  },
  {
   "cell_type": "code",
   "execution_count": 14,
   "metadata": {},
   "outputs": [
    {
     "data": {
      "text/plain": [
       "<matplotlib.axes._subplots.AxesSubplot at 0x134021128>"
      ]
     },
     "execution_count": 14,
     "metadata": {},
     "output_type": "execute_result"
    },
    {
     "data": {
      "image/png": "[encoded data removed]",
      "text/plain": [
       "<matplotlib.figure.Figure at 0x12c6ed3c8>"
      ]
     },
     "metadata": {},
     "output_type": "display_data"
    }
   ],
   "source": [
    "dr['time_min'] = np.floor(dr['left_link_time'] / (1 * 60))\n",
    "\n",
    "dr.groupby('time_min').count().rename(columns={'left_link_time':'cars_per_minute'}).plot()"
   ]
  },
  {
   "cell_type": "code",
   "execution_count": null,
   "metadata": {
    "collapsed": true
   },
   "outputs": [],
   "source": []
  }
 ],
 "metadata": {
  "kernelspec": {
   "display_name": "Python 3",
   "language": "python",
   "name": "python3"
  },
  "language_info": {
   "codemirror_mode": {
    "name": "ipython",
    "version": 3
   },
   "file_extension": ".py",
   "mimetype": "text/x-python",
   "name": "python",
   "nbconvert_exporter": "python",
   "pygments_lexer": "ipython3",
   "version": "3.6.5"
  }
 },
 "nbformat": 4,
 "nbformat_minor": 2
}
